{
 "cells": [
  {
   "cell_type": "code",
   "execution_count": 3,
   "metadata": {},
   "outputs": [
    {
     "name": "stdout",
     "output_type": "stream",
     "text": [
      "Requirement already satisfied: ipyvizzu==0.5.0 in c:\\users\\utkar\\appdata\\local\\programs\\python\\python310\\lib\\site-packages (0.5.0)\n",
      "Requirement already satisfied: notebook in c:\\users\\utkar\\appdata\\local\\programs\\python\\python310\\lib\\site-packages (6.4.8)\n",
      "Requirement already satisfied: IPython in c:\\users\\utkar\\appdata\\local\\programs\\python\\python310\\lib\\site-packages (from ipyvizzu==0.5.0) (8.0.1)\n",
      "Requirement already satisfied: tornado>=6.1 in c:\\users\\utkar\\appdata\\local\\programs\\python\\python310\\lib\\site-packages (from notebook) (6.1)\n",
      "Requirement already satisfied: jinja2 in c:\\users\\utkar\\appdata\\local\\programs\\python\\python310\\lib\\site-packages (from notebook) (3.0.3)\n",
      "Requirement already satisfied: Send2Trash>=1.8.0 in c:\\users\\utkar\\appdata\\local\\programs\\python\\python310\\lib\\site-packages (from notebook) (1.8.0)\n",
      "Requirement already satisfied: nbformat in c:\\users\\utkar\\appdata\\local\\programs\\python\\python310\\lib\\site-packages (from notebook) (5.1.3)\n",
      "Requirement already satisfied: nest-asyncio>=1.5 in c:\\users\\utkar\\appdata\\local\\programs\\python\\python310\\lib\\site-packages (from notebook) (1.5.4)\n",
      "Requirement already satisfied: ipython-genutils in c:\\users\\utkar\\appdata\\local\\programs\\python\\python310\\lib\\site-packages (from notebook) (0.2.0)\n",
      "Requirement already satisfied: traitlets>=4.2.1 in c:\\users\\utkar\\appdata\\local\\programs\\python\\python310\\lib\\site-packages (from notebook) (5.1.1)\n",
      "Requirement already satisfied: argon2-cffi in c:\\users\\utkar\\appdata\\local\\programs\\python\\python310\\lib\\site-packages (from notebook) (21.3.0)\n",
      "Requirement already satisfied: jupyter-core>=4.6.1 in c:\\users\\utkar\\appdata\\local\\programs\\python\\python310\\lib\\site-packages (from notebook) (4.9.1)\n",
      "Requirement already satisfied: jupyter-client>=5.3.4 in c:\\users\\utkar\\appdata\\local\\programs\\python\\python310\\lib\\site-packages (from notebook) (7.1.2)\n",
      "Requirement already satisfied: nbconvert in c:\\users\\utkar\\appdata\\local\\programs\\python\\python310\\lib\\site-packages (from notebook) (6.4.0)\n",
      "Requirement already satisfied: terminado>=0.8.3 in c:\\users\\utkar\\appdata\\local\\programs\\python\\python310\\lib\\site-packages (from notebook) (0.12.1)\n",
      "Requirement already satisfied: ipykernel in c:\\users\\utkar\\appdata\\local\\programs\\python\\python310\\lib\\site-packages (from notebook) (6.7.0)\n",
      "Requirement already satisfied: prometheus-client in c:\\users\\utkar\\appdata\\local\\programs\\python\\python310\\lib\\site-packages (from notebook) (0.13.0)\n",
      "Requirement already satisfied: pyzmq>=17 in c:\\users\\utkar\\appdata\\local\\programs\\python\\python310\\lib\\site-packages (from notebook) (22.3.0)\n",
      "Requirement already satisfied: entrypoints in c:\\users\\utkar\\appdata\\local\\programs\\python\\python310\\lib\\site-packages (from jupyter-client>=5.3.4->notebook) (0.3)\n",
      "Requirement already satisfied: python-dateutil>=2.1 in c:\\users\\utkar\\appdata\\local\\programs\\python\\python310\\lib\\site-packages (from jupyter-client>=5.3.4->notebook) (2.8.2)Note: you may need to restart the kernel to use updated packages.\n"
     ]
    },
    {
     "name": "stderr",
     "output_type": "stream",
     "text": [
      "WARNING: You are using pip version 21.2.4; however, version 22.0.4 is available.\n",
      "You should consider upgrading via the 'C:\\Users\\utkar\\AppData\\Local\\Programs\\Python\\Python310\\python.exe -m pip install --upgrade pip' command.\n"
     ]
    },
    {
     "name": "stdout",
     "output_type": "stream",
     "text": [
      "\n",
      "Requirement already satisfied: pywin32>=1.0 in c:\\users\\utkar\\appdata\\local\\programs\\python\\python310\\lib\\site-packages (from jupyter-core>=4.6.1->notebook) (303)\n",
      "Requirement already satisfied: six>=1.5 in c:\\users\\utkar\\appdata\\local\\programs\\python\\python310\\lib\\site-packages (from python-dateutil>=2.1->jupyter-client>=5.3.4->notebook) (1.16.0)\n",
      "Requirement already satisfied: pywinpty>=1.1.0 in c:\\users\\utkar\\appdata\\local\\programs\\python\\python310\\lib\\site-packages (from terminado>=0.8.3->notebook) (2.0.1)\n",
      "Requirement already satisfied: argon2-cffi-bindings in c:\\users\\utkar\\appdata\\local\\programs\\python\\python310\\lib\\site-packages (from argon2-cffi->notebook) (21.2.0)\n",
      "Requirement already satisfied: cffi>=1.0.1 in c:\\users\\utkar\\appdata\\local\\programs\\python\\python310\\lib\\site-packages (from argon2-cffi-bindings->argon2-cffi->notebook) (1.15.0)\n",
      "Requirement already satisfied: pycparser in c:\\users\\utkar\\appdata\\local\\programs\\python\\python310\\lib\\site-packages (from cffi>=1.0.1->argon2-cffi-bindings->argon2-cffi->notebook) (2.21)\n",
      "Requirement already satisfied: matplotlib-inline<0.2.0,>=0.1.0 in c:\\users\\utkar\\appdata\\local\\programs\\python\\python310\\lib\\site-packages (from ipykernel->notebook) (0.1.3)\n",
      "Requirement already satisfied: debugpy<2.0,>=1.0.0 in c:\\users\\utkar\\appdata\\local\\programs\\python\\python310\\lib\\site-packages (from ipykernel->notebook) (1.5.1)\n",
      "Requirement already satisfied: prompt-toolkit!=3.0.0,!=3.0.1,<3.1.0,>=2.0.0 in c:\\users\\utkar\\appdata\\local\\programs\\python\\python310\\lib\\site-packages (from IPython->ipyvizzu==0.5.0) (3.0.24)\n",
      "Requirement already satisfied: setuptools>=18.5 in c:\\users\\utkar\\appdata\\local\\programs\\python\\python310\\lib\\site-packages (from IPython->ipyvizzu==0.5.0) (58.1.0)\n",
      "Requirement already satisfied: colorama in c:\\users\\utkar\\appdata\\local\\programs\\python\\python310\\lib\\site-packages (from IPython->ipyvizzu==0.5.0) (0.4.4)\n",
      "Requirement already satisfied: pygments in c:\\users\\utkar\\appdata\\local\\programs\\python\\python310\\lib\\site-packages (from IPython->ipyvizzu==0.5.0) (2.11.2)\n",
      "Requirement already satisfied: decorator in c:\\users\\utkar\\appdata\\local\\programs\\python\\python310\\lib\\site-packages (from IPython->ipyvizzu==0.5.0) (5.1.1)\n",
      "Requirement already satisfied: black in c:\\users\\utkar\\appdata\\local\\programs\\python\\python310\\lib\\site-packages (from IPython->ipyvizzu==0.5.0) (21.12b0)\n",
      "Requirement already satisfied: jedi>=0.16 in c:\\users\\utkar\\appdata\\local\\programs\\python\\python310\\lib\\site-packages (from IPython->ipyvizzu==0.5.0) (0.18.1)\n",
      "Requirement already satisfied: backcall in c:\\users\\utkar\\appdata\\local\\programs\\python\\python310\\lib\\site-packages (from IPython->ipyvizzu==0.5.0) (0.2.0)\n",
      "Requirement already satisfied: stack-data in c:\\users\\utkar\\appdata\\local\\programs\\python\\python310\\lib\\site-packages (from IPython->ipyvizzu==0.5.0) (0.1.4)\n",
      "Requirement already satisfied: pickleshare in c:\\users\\utkar\\appdata\\local\\programs\\python\\python310\\lib\\site-packages (from IPython->ipyvizzu==0.5.0) (0.7.5)\n",
      "Requirement already satisfied: parso<0.9.0,>=0.8.0 in c:\\users\\utkar\\appdata\\local\\programs\\python\\python310\\lib\\site-packages (from jedi>=0.16->IPython->ipyvizzu==0.5.0) (0.8.3)\n",
      "Requirement already satisfied: wcwidth in c:\\users\\utkar\\appdata\\local\\programs\\python\\python310\\lib\\site-packages (from prompt-toolkit!=3.0.0,!=3.0.1,<3.1.0,>=2.0.0->IPython->ipyvizzu==0.5.0) (0.2.5)\n",
      "Requirement already satisfied: tomli<2.0.0,>=0.2.6 in c:\\users\\utkar\\appdata\\local\\programs\\python\\python310\\lib\\site-packages (from black->IPython->ipyvizzu==0.5.0) (1.2.3)\n",
      "Requirement already satisfied: mypy-extensions>=0.4.3 in c:\\users\\utkar\\appdata\\local\\programs\\python\\python310\\lib\\site-packages (from black->IPython->ipyvizzu==0.5.0) (0.4.3)\n",
      "Requirement already satisfied: platformdirs>=2 in c:\\users\\utkar\\appdata\\local\\programs\\python\\python310\\lib\\site-packages (from black->IPython->ipyvizzu==0.5.0) (2.4.1)\n",
      "Requirement already satisfied: typing-extensions!=3.10.0.1 in c:\\users\\utkar\\appdata\\local\\programs\\python\\python310\\lib\\site-packages (from black->IPython->ipyvizzu==0.5.0) (4.0.1)\n",
      "Requirement already satisfied: pathspec<1,>=0.9.0 in c:\\users\\utkar\\appdata\\local\\programs\\python\\python310\\lib\\site-packages (from black->IPython->ipyvizzu==0.5.0) (0.9.0)\n",
      "Requirement already satisfied: click>=7.1.2 in c:\\users\\utkar\\appdata\\local\\programs\\python\\python310\\lib\\site-packages (from black->IPython->ipyvizzu==0.5.0) (8.0.3)\n",
      "Requirement already satisfied: MarkupSafe>=2.0 in c:\\users\\utkar\\appdata\\local\\programs\\python\\python310\\lib\\site-packages (from jinja2->notebook) (2.0.1)\n",
      "Requirement already satisfied: pandocfilters>=1.4.1 in c:\\users\\utkar\\appdata\\local\\programs\\python\\python310\\lib\\site-packages (from nbconvert->notebook) (1.5.0)\n",
      "Requirement already satisfied: defusedxml in c:\\users\\utkar\\appdata\\local\\programs\\python\\python310\\lib\\site-packages (from nbconvert->notebook) (0.7.1)\n",
      "Requirement already satisfied: jupyterlab-pygments in c:\\users\\utkar\\appdata\\local\\programs\\python\\python310\\lib\\site-packages (from nbconvert->notebook) (0.1.2)\n",
      "Requirement already satisfied: bleach in c:\\users\\utkar\\appdata\\local\\programs\\python\\python310\\lib\\site-packages (from nbconvert->notebook) (4.1.0)\n",
      "Requirement already satisfied: testpath in c:\\users\\utkar\\appdata\\local\\programs\\python\\python310\\lib\\site-packages (from nbconvert->notebook) (0.5.0)\n",
      "Requirement already satisfied: nbclient<0.6.0,>=0.5.0 in c:\\users\\utkar\\appdata\\local\\programs\\python\\python310\\lib\\site-packages (from nbconvert->notebook) (0.5.10)\n",
      "Requirement already satisfied: mistune<2,>=0.8.1 in c:\\users\\utkar\\appdata\\local\\programs\\python\\python310\\lib\\site-packages (from nbconvert->notebook) (0.8.4)\n",
      "Requirement already satisfied: jsonschema!=2.5.0,>=2.4 in c:\\users\\utkar\\appdata\\local\\programs\\python\\python310\\lib\\site-packages (from nbformat->notebook) (4.4.0)\n",
      "Requirement already satisfied: pyrsistent!=0.17.0,!=0.17.1,!=0.17.2,>=0.14.0 in c:\\users\\utkar\\appdata\\local\\programs\\python\\python310\\lib\\site-packages (from jsonschema!=2.5.0,>=2.4->nbformat->notebook) (0.18.1)\n",
      "Requirement already satisfied: attrs>=17.4.0 in c:\\users\\utkar\\appdata\\local\\programs\\python\\python310\\lib\\site-packages (from jsonschema!=2.5.0,>=2.4->nbformat->notebook) (20.3.0)\n",
      "Requirement already satisfied: webencodings in c:\\users\\utkar\\appdata\\local\\programs\\python\\python310\\lib\\site-packages (from bleach->nbconvert->notebook) (0.5.1)\n",
      "Requirement already satisfied: packaging in c:\\users\\utkar\\appdata\\local\\programs\\python\\python310\\lib\\site-packages (from bleach->nbconvert->notebook) (21.3)\n",
      "Requirement already satisfied: pyparsing!=3.0.5,>=2.0.2 in c:\\users\\utkar\\appdata\\local\\programs\\python\\python310\\lib\\site-packages (from packaging->bleach->nbconvert->notebook) (3.0.7)\n",
      "Requirement already satisfied: pure-eval in c:\\users\\utkar\\appdata\\local\\programs\\python\\python310\\lib\\site-packages (from stack-data->IPython->ipyvizzu==0.5.0) (0.2.2)\n",
      "Requirement already satisfied: asttokens in c:\\users\\utkar\\appdata\\local\\programs\\python\\python310\\lib\\site-packages (from stack-data->IPython->ipyvizzu==0.5.0) (2.0.5)\n",
      "Requirement already satisfied: executing in c:\\users\\utkar\\appdata\\local\\programs\\python\\python310\\lib\\site-packages (from stack-data->IPython->ipyvizzu==0.5.0) (0.8.2)\n"
     ]
    }
   ],
   "source": [
    "pip install ipyvizzu==0.5.0 notebook"
   ]
  },
  {
   "cell_type": "code",
   "execution_count": 4,
   "metadata": {},
   "outputs": [],
   "source": [
    "import pandas as pd\n",
    "from ipyvizzu import Chart, Data, Config"
   ]
  },
  {
   "cell_type": "code",
   "execution_count": 39,
   "metadata": {},
   "outputs": [
    {
     "data": {
      "text/html": [
       "<script id=\"myVizzu_692d482\">\n",
       "    myVizzu_692d482.parentNode.parentNode.style.display = \"none\";\n",
       "    let myVizzu_295693d = document.createElement(\"div\");\n",
       "    myVizzu_295693d.style.cssText = \"width: 640px; height: 360px;\";\n",
       "    let chart_295693d = import(\"https://cdn.jsdelivr.net/npm/vizzu@~0.4.0/dist/vizzu.min.js\").then(Vizzu => new Vizzu.default(myVizzu_295693d).initializing);\n",
       "</script>"
      ]
     },
     "metadata": {},
     "output_type": "display_data"
    },
    {
     "data": {
      "text/html": [
       "<script id=\"myVizzu_8f5ec03\">\n",
       "    let display_8f5ec03 = myVizzu_8f5ec03.parentNode.parentNode.style.display;\n",
       "    myVizzu_8f5ec03.parentNode.parentNode.style.display = \"none\";\n",
       "    chart_295693d = chart_295693d.then(chart => {\n",
       "        if (myVizzu_295693d.parentNode && myVizzu_295693d.parentNode.parentNode) {\n",
       "            myVizzu_295693d.parentNode.parentNode.style.display = \"none\";\n",
       "        }\n",
       "        myVizzu_8f5ec03.parentNode.parentNode.style.display = display_8f5ec03;\n",
       "        myVizzu_8f5ec03.parentNode.insertBefore(myVizzu_295693d, myVizzu_8f5ec03);\n",
       "        return chart.animate({\"data\": {\"series\": [{\"name\": \"Foo\", \"values\": [\"Alice\", \"Bob\", \"Ted\"]}, {\"name\": \"Bar\", \"values\": [15, 32, 12]}, {\"name\": \"Baz\", \"values\": [5, 2, 2]}]}});\n",
       "    });\n",
       "</script>"
      ]
     },
     "metadata": {},
     "output_type": "display_data"
    },
    {
     "data": {
      "text/html": [
       "<script id=\"myVizzu_ebc1cd9\">\n",
       "    let display_ebc1cd9 = myVizzu_ebc1cd9.parentNode.parentNode.style.display;\n",
       "    myVizzu_ebc1cd9.parentNode.parentNode.style.display = \"none\";\n",
       "    chart_295693d = chart_295693d.then(chart => {\n",
       "        if (myVizzu_295693d.parentNode && myVizzu_295693d.parentNode.parentNode) {\n",
       "            myVizzu_295693d.parentNode.parentNode.style.display = \"none\";\n",
       "        }\n",
       "        myVizzu_ebc1cd9.parentNode.parentNode.style.display = display_ebc1cd9;\n",
       "        myVizzu_ebc1cd9.parentNode.insertBefore(myVizzu_295693d, myVizzu_ebc1cd9);\n",
       "        return chart.animate({\"config\": {\"x\": \"Foo\", \"y\": \"Baz\", \"color\": \"Foo\"}});\n",
       "    });\n",
       "</script>"
      ]
     },
     "metadata": {},
     "output_type": "display_data"
    }
   ],
   "source": [
    "from ipyvizzu import Chart, Data, Config\n",
    "\n",
    "data = Data()\n",
    "data.add_series(\"Foo\", [\"Alice\", \"Bob\", \"Ted\"])\n",
    "data.add_series(\"Bar\", [15, 32, 12])\n",
    "data.add_series(\"Baz\", [5, 2, 2])\n",
    "\n",
    "chart = Chart(width=\"640px\", height=\"360px\")\n",
    "chart.animate(data)\n",
    "\n",
    "#chart.animate(Config({\"x\":\"Foo\", \"y\":\"Bar\", \"color\":\"Foo\"}))\n",
    "#chart.animate(Config({\"geometry\":\"circle\"}))\n",
    "chart.animate(Config({\"x\":\"Foo\", \"y\":\"Baz\", \"color\":\"Foo\"}))\n",
    "#chart.animate(Config({\"geometry\":\"rectangle\"}))"
   ]
  },
  {
   "cell_type": "code",
   "execution_count": 5,
   "metadata": {},
   "outputs": [],
   "source": [
    "data = Data()\n",
    "data.add_series(\"Foo\", [\"Alice\", \"Bob\", \"Ted\"])\n",
    "data.add_series(\"Bar\", [15, 32, 12])\n",
    "data.add_series(\"Baz\", [5, 2, 2])"
   ]
  },
  {
   "cell_type": "code",
   "execution_count": 11,
   "metadata": {},
   "outputs": [
    {
     "name": "stderr",
     "output_type": "stream",
     "text": [
      "'npm' is not recognized as an internal or external command,\n",
      "operable program or batch file.\n"
     ]
    }
   ],
   "source": []
  },
  {
   "cell_type": "code",
   "execution_count": 33,
   "metadata": {},
   "outputs": [
    {
     "data": {
      "text/html": [
       "<script id=\"myVizzu_de238f3\">\n",
       "    myVizzu_de238f3.parentNode.parentNode.style.display = \"none\";\n",
       "    let myVizzu_4d81401 = document.createElement(\"div\");\n",
       "    myVizzu_4d81401.style.cssText = \"width: 800px; height: 480px;\";\n",
       "    let chart_4d81401 = import(\"https://cdn.jsdelivr.net/npm/vizzu@~0.4.0/dist/vizzu.min.js\").then(Vizzu => new Vizzu.default(myVizzu_4d81401).initializing);\n",
       "</script>"
      ]
     },
     "metadata": {},
     "output_type": "display_data"
    },
    {
     "data": {
      "text/html": [
       "<script id=\"myVizzu_68518fe\">\n",
       "    let display_68518fe = myVizzu_68518fe.parentNode.parentNode.style.display;\n",
       "    myVizzu_68518fe.parentNode.parentNode.style.display = \"none\";\n",
       "    chart_4d81401 = chart_4d81401.then(chart => {\n",
       "        if (myVizzu_4d81401.parentNode && myVizzu_4d81401.parentNode.parentNode) {\n",
       "            myVizzu_4d81401.parentNode.parentNode.style.display = \"none\";\n",
       "        }\n",
       "        myVizzu_68518fe.parentNode.parentNode.style.display = display_68518fe;\n",
       "        myVizzu_68518fe.parentNode.insertBefore(myVizzu_4d81401, myVizzu_68518fe);\n",
       "        return chart.animate({\"data\": {}});\n",
       "    });\n",
       "</script>"
      ]
     },
     "metadata": {},
     "output_type": "display_data"
    },
    {
     "ename": "ValueError",
     "evalue": "No animation was set.",
     "output_type": "error",
     "traceback": [
      "\u001b[1;31m---------------------------------------------------------------------------\u001b[0m",
      "\u001b[1;31mValueError\u001b[0m                                Traceback (most recent call last)",
      "\u001b[1;32mc:\\Users\\utkar\\python\\Data Science Course Practice\\ipyvizzu.ipynb Cell 6'\u001b[0m in \u001b[0;36m<module>\u001b[1;34m\u001b[0m\n\u001b[0;32m      <a href='vscode-notebook-cell:/c%3A/Users/utkar/python/Data%20Science%20Course%20Practice/ipyvizzu.ipynb#ch0000003?line=0'>1</a>\u001b[0m chart \u001b[39m=\u001b[39m Chart()\n\u001b[0;32m      <a href='vscode-notebook-cell:/c%3A/Users/utkar/python/Data%20Science%20Course%20Practice/ipyvizzu.ipynb#ch0000003?line=1'>2</a>\u001b[0m chart\u001b[39m.\u001b[39manimate(data)\n\u001b[1;32m----> <a href='vscode-notebook-cell:/c%3A/Users/utkar/python/Data%20Science%20Course%20Practice/ipyvizzu.ipynb#ch0000003?line=2'>3</a>\u001b[0m chart\u001b[39m.\u001b[39;49manimate(x\u001b[39m=\u001b[39;49m\u001b[39m\"\u001b[39;49m\u001b[39mFoo\u001b[39;49m\u001b[39m\"\u001b[39;49m, y\u001b[39m=\u001b[39;49m\u001b[39m\"\u001b[39;49m\u001b[39mBar\u001b[39;49m\u001b[39m\"\u001b[39;49m, color\u001b[39m=\u001b[39;49m\u001b[39m\"\u001b[39;49m\u001b[39mFoo\u001b[39;49m\u001b[39m\"\u001b[39;49m)\n\u001b[0;32m      <a href='vscode-notebook-cell:/c%3A/Users/utkar/python/Data%20Science%20Course%20Practice/ipyvizzu.ipynb#ch0000003?line=3'>4</a>\u001b[0m chart\u001b[39m.\u001b[39manimate(geometry\u001b[39m=\u001b[39m\u001b[39m\"\u001b[39m\u001b[39mcircle\u001b[39m\u001b[39m\"\u001b[39m)\n\u001b[0;32m      <a href='vscode-notebook-cell:/c%3A/Users/utkar/python/Data%20Science%20Course%20Practice/ipyvizzu.ipynb#ch0000003?line=4'>5</a>\u001b[0m chart\u001b[39m.\u001b[39manimate(x\u001b[39m=\u001b[39m\u001b[39m\"\u001b[39m\u001b[39mFoo\u001b[39m\u001b[39m\"\u001b[39m, y\u001b[39m=\u001b[39m\u001b[39m\"\u001b[39m\u001b[39mBaz\u001b[39m\u001b[39m\"\u001b[39m, color\u001b[39m=\u001b[39m\u001b[39m\"\u001b[39m\u001b[39mFoo\u001b[39m\u001b[39m\"\u001b[39m)\n",
      "File \u001b[1;32m~\\AppData\\Local\\Programs\\Python\\Python310\\lib\\site-packages\\ipyvizzu.py:293\u001b[0m, in \u001b[0;36mChart.animate\u001b[1;34m(self, *animations, **options)\u001b[0m\n\u001b[0;32m    <a href='file:///c%3A/Users/utkar/AppData/Local/Programs/Python/Python310/lib/site-packages/ipyvizzu.py?line=288'>289</a>\u001b[0m \u001b[39m\"\"\"\u001b[39;00m\n\u001b[0;32m    <a href='file:///c%3A/Users/utkar/AppData/Local/Programs/Python/Python310/lib/site-packages/ipyvizzu.py?line=289'>290</a>\u001b[0m \u001b[39mShow new animation.\u001b[39;00m\n\u001b[0;32m    <a href='file:///c%3A/Users/utkar/AppData/Local/Programs/Python/Python310/lib/site-packages/ipyvizzu.py?line=290'>291</a>\u001b[0m \u001b[39m\"\"\"\u001b[39;00m\n\u001b[0;32m    <a href='file:///c%3A/Users/utkar/AppData/Local/Programs/Python/Python310/lib/site-packages/ipyvizzu.py?line=291'>292</a>\u001b[0m \u001b[39mif\u001b[39;00m \u001b[39mnot\u001b[39;00m animations:\n\u001b[1;32m--> <a href='file:///c%3A/Users/utkar/AppData/Local/Programs/Python/Python310/lib/site-packages/ipyvizzu.py?line=292'>293</a>\u001b[0m     \u001b[39mraise\u001b[39;00m \u001b[39mValueError\u001b[39;00m(\u001b[39m\"\u001b[39m\u001b[39mNo animation was set.\u001b[39m\u001b[39m\"\u001b[39m)\n\u001b[0;32m    <a href='file:///c%3A/Users/utkar/AppData/Local/Programs/Python/Python310/lib/site-packages/ipyvizzu.py?line=294'>295</a>\u001b[0m animation \u001b[39m=\u001b[39m \u001b[39mself\u001b[39m\u001b[39m.\u001b[39m_merge_animations(animations)\n\u001b[0;32m    <a href='file:///c%3A/Users/utkar/AppData/Local/Programs/Python/Python310/lib/site-packages/ipyvizzu.py?line=295'>296</a>\u001b[0m animation \u001b[39m=\u001b[39m Animate(animation, options)\u001b[39m.\u001b[39mdump()\n",
      "\u001b[1;31mValueError\u001b[0m: No animation was set."
     ]
    }
   ],
   "source": [
    "chart = Chart()\n",
    "chart.animate(data)\n",
    "chart.animate(x=\"Foo\", y=\"Bar\", color=\"Foo\")\n",
    "chart.animate(geometry=\"circle\")\n",
    "chart.animate(x=\"Foo\", y=\"Baz\", color=\"Foo\")\n",
    "chart.animate(geometry=\"rectangle\")"
   ]
  },
  {
   "cell_type": "code",
   "execution_count": 7,
   "metadata": {},
   "outputs": [
    {
     "ename": "ValueError",
     "evalue": "No animation was set.",
     "output_type": "error",
     "traceback": [
      "\u001b[1;31m---------------------------------------------------------------------------\u001b[0m",
      "\u001b[1;31mValueError\u001b[0m                                Traceback (most recent call last)",
      "\u001b[1;32mc:\\Users\\utkar\\python\\Data Science Course Practice\\ipyvizzu.ipynb Cell 5'\u001b[0m in \u001b[0;36m<module>\u001b[1;34m\u001b[0m\n\u001b[1;32m----> <a href='vscode-notebook-cell:/c%3A/Users/utkar/python/Data%20Science%20Course%20Practice/ipyvizzu.ipynb#ch0000004?line=0'>1</a>\u001b[0m chart\u001b[39m.\u001b[39;49manimate(x\u001b[39m=\u001b[39;49m\u001b[39m\"\u001b[39;49m\u001b[39mFoo\u001b[39;49m\u001b[39m\"\u001b[39;49m, y\u001b[39m=\u001b[39;49m\u001b[39m\"\u001b[39;49m\u001b[39mBar\u001b[39;49m\u001b[39m\"\u001b[39;49m, color\u001b[39m=\u001b[39;49m\u001b[39m\"\u001b[39;49m\u001b[39mFoo\u001b[39;49m\u001b[39m\"\u001b[39;49m)\n\u001b[0;32m      <a href='vscode-notebook-cell:/c%3A/Users/utkar/python/Data%20Science%20Course%20Practice/ipyvizzu.ipynb#ch0000004?line=1'>2</a>\u001b[0m chart\u001b[39m.\u001b[39manimate(geometry\u001b[39m=\u001b[39m\u001b[39m\"\u001b[39m\u001b[39mcircle\u001b[39m\u001b[39m\"\u001b[39m)\n\u001b[0;32m      <a href='vscode-notebook-cell:/c%3A/Users/utkar/python/Data%20Science%20Course%20Practice/ipyvizzu.ipynb#ch0000004?line=2'>3</a>\u001b[0m chart\u001b[39m.\u001b[39manimate(x\u001b[39m=\u001b[39m\u001b[39m\"\u001b[39m\u001b[39mFoo\u001b[39m\u001b[39m\"\u001b[39m, y\u001b[39m=\u001b[39m\u001b[39m\"\u001b[39m\u001b[39mBaz\u001b[39m\u001b[39m\"\u001b[39m, color\u001b[39m=\u001b[39m\u001b[39m\"\u001b[39m\u001b[39mFoo\u001b[39m\u001b[39m\"\u001b[39m)\n",
      "File \u001b[1;32m~\\AppData\\Local\\Programs\\Python\\Python310\\lib\\site-packages\\ipyvizzu.py:293\u001b[0m, in \u001b[0;36mChart.animate\u001b[1;34m(self, *animations, **options)\u001b[0m\n\u001b[0;32m    <a href='file:///c%3A/Users/utkar/AppData/Local/Programs/Python/Python310/lib/site-packages/ipyvizzu.py?line=288'>289</a>\u001b[0m \u001b[39m\"\"\"\u001b[39;00m\n\u001b[0;32m    <a href='file:///c%3A/Users/utkar/AppData/Local/Programs/Python/Python310/lib/site-packages/ipyvizzu.py?line=289'>290</a>\u001b[0m \u001b[39mShow new animation.\u001b[39;00m\n\u001b[0;32m    <a href='file:///c%3A/Users/utkar/AppData/Local/Programs/Python/Python310/lib/site-packages/ipyvizzu.py?line=290'>291</a>\u001b[0m \u001b[39m\"\"\"\u001b[39;00m\n\u001b[0;32m    <a href='file:///c%3A/Users/utkar/AppData/Local/Programs/Python/Python310/lib/site-packages/ipyvizzu.py?line=291'>292</a>\u001b[0m \u001b[39mif\u001b[39;00m \u001b[39mnot\u001b[39;00m animations:\n\u001b[1;32m--> <a href='file:///c%3A/Users/utkar/AppData/Local/Programs/Python/Python310/lib/site-packages/ipyvizzu.py?line=292'>293</a>\u001b[0m     \u001b[39mraise\u001b[39;00m \u001b[39mValueError\u001b[39;00m(\u001b[39m\"\u001b[39m\u001b[39mNo animation was set.\u001b[39m\u001b[39m\"\u001b[39m)\n\u001b[0;32m    <a href='file:///c%3A/Users/utkar/AppData/Local/Programs/Python/Python310/lib/site-packages/ipyvizzu.py?line=294'>295</a>\u001b[0m animation \u001b[39m=\u001b[39m \u001b[39mself\u001b[39m\u001b[39m.\u001b[39m_merge_animations(animations)\n\u001b[0;32m    <a href='file:///c%3A/Users/utkar/AppData/Local/Programs/Python/Python310/lib/site-packages/ipyvizzu.py?line=295'>296</a>\u001b[0m animation \u001b[39m=\u001b[39m Animate(animation, options)\u001b[39m.\u001b[39mdump()\n",
      "\u001b[1;31mValueError\u001b[0m: No animation was set."
     ]
    }
   ],
   "source": []
  },
  {
   "cell_type": "code",
   "execution_count": 32,
   "metadata": {},
   "outputs": [
    {
     "data": {
      "text/html": [
       "<script id=\"myVizzu_7137c68\">\n",
       "    myVizzu_7137c68.parentNode.parentNode.style.display = \"none\";\n",
       "    let myVizzu_a5cd9ee = document.createElement(\"div\");\n",
       "    myVizzu_a5cd9ee.style.cssText = \"width: 640px; height: 360px;\";\n",
       "    let chart_a5cd9ee = import(\"https://cdn.jsdelivr.net/npm/vizzu@~0.4.0/dist/vizzu.min.js\").then(Vizzu => new Vizzu.default(myVizzu_a5cd9ee).initializing);\n",
       "</script>"
      ]
     },
     "metadata": {},
     "output_type": "display_data"
    },
    {
     "ename": "TypeError",
     "evalue": "Chart.animate() missing 1 required positional argument: 'self'",
     "output_type": "error",
     "traceback": [
      "\u001b[1;31m---------------------------------------------------------------------------\u001b[0m",
      "\u001b[1;31mTypeError\u001b[0m                                 Traceback (most recent call last)",
      "\u001b[1;32mc:\\Users\\utkar\\python\\Data Science Course Practice\\ipyvizzu.ipynb Cell 8'\u001b[0m in \u001b[0;36m<module>\u001b[1;34m\u001b[0m\n\u001b[0;32m      <a href='vscode-notebook-cell:/c%3A/Users/utkar/python/Data%20Science%20Course%20Practice/ipyvizzu.ipynb#ch0000005?line=5'>6</a>\u001b[0m \u001b[39m#data.add_data_frame(data_frame)\u001b[39;00m\n\u001b[0;32m      <a href='vscode-notebook-cell:/c%3A/Users/utkar/python/Data%20Science%20Course%20Practice/ipyvizzu.ipynb#ch0000005?line=7'>8</a>\u001b[0m chart \u001b[39m=\u001b[39m Chart(width\u001b[39m=\u001b[39m\u001b[39m\"\u001b[39m\u001b[39m640px\u001b[39m\u001b[39m\"\u001b[39m, height\u001b[39m=\u001b[39m\u001b[39m\"\u001b[39m\u001b[39m360px\u001b[39m\u001b[39m\"\u001b[39m)\n\u001b[1;32m---> <a href='vscode-notebook-cell:/c%3A/Users/utkar/python/Data%20Science%20Course%20Practice/ipyvizzu.ipynb#ch0000005?line=9'>10</a>\u001b[0m Chart\u001b[39m.\u001b[39;49manimate(width\u001b[39m=\u001b[39;49m\u001b[39m\"\u001b[39;49m\u001b[39m640px\u001b[39;49m\u001b[39m\"\u001b[39;49m, height\u001b[39m=\u001b[39;49m\u001b[39m\"\u001b[39;49m\u001b[39m360px\u001b[39;49m\u001b[39m\"\u001b[39;49m,Data\u001b[39m=\u001b[39;49mdata_frame)\n",
      "\u001b[1;31mTypeError\u001b[0m: Chart.animate() missing 1 required positional argument: 'self'"
     ]
    }
   ],
   "source": [
    "import pandas as pd\n",
    "from ipyvizzu import Chart, Data, Config\n",
    "\n",
    "data_frame = pd.read_csv(r'C:\\Users\\utkar\\python\\Data Science Course Practice\\titanic.csv')\n",
    "data = Data()\n",
    "#data.add_data_frame(data_frame)\n",
    "\n",
    "chart = Chart(width=\"640px\", height=\"360px\")\n",
    "\n",
    "Chart.animate(width=\"640px\", height=\"360px\",Data=data_frame)\n"
   ]
  },
  {
   "cell_type": "code",
   "execution_count": 27,
   "metadata": {},
   "outputs": [],
   "source": [
    "import pandas as pd\n",
    "from ipyvizzu import Chart, Data, Config"
   ]
  },
  {
   "cell_type": "code",
   "execution_count": 29,
   "metadata": {},
   "outputs": [
    {
     "name": "stdout",
     "output_type": "stream",
     "text": [
      "\u001b[1;31mInit signature:\u001b[0m\n",
      "\u001b[0mChart\u001b[0m\u001b[1;33m(\u001b[0m\u001b[1;33m\n",
      "\u001b[0m    \u001b[0mvizzu\u001b[0m\u001b[1;33m=\u001b[0m\u001b[1;34m'https://cdn.jsdelivr.net/npm/vizzu@~0.4.0/dist/vizzu.min.js'\u001b[0m\u001b[1;33m,\u001b[0m\u001b[1;33m\n",
      "\u001b[0m    \u001b[0mwidth\u001b[0m\u001b[1;33m=\u001b[0m\u001b[1;34m'800px'\u001b[0m\u001b[1;33m,\u001b[0m\u001b[1;33m\n",
      "\u001b[0m    \u001b[0mheight\u001b[0m\u001b[1;33m=\u001b[0m\u001b[1;34m'480px'\u001b[0m\u001b[1;33m,\u001b[0m\u001b[1;33m\n",
      "\u001b[0m    \u001b[0mdisplay\u001b[0m\u001b[1;33m:\u001b[0m \u001b[0mipyvizzu\u001b[0m\u001b[1;33m.\u001b[0m\u001b[0mDisplayTarget\u001b[0m \u001b[1;33m=\u001b[0m \u001b[1;33m<\u001b[0m\u001b[0mDisplayTarget\u001b[0m\u001b[1;33m.\u001b[0m\u001b[0mACTUAL\u001b[0m\u001b[1;33m:\u001b[0m \u001b[1;34m'actual'\u001b[0m\u001b[1;33m>\u001b[0m\u001b[1;33m,\u001b[0m\u001b[1;33m\n",
      "\u001b[0m\u001b[1;33m)\u001b[0m\u001b[1;33m\u001b[0m\u001b[1;33m\u001b[0m\u001b[0m\n",
      "\u001b[1;31mDocstring:\u001b[0m      Wrapper over Vizzu Chart\n",
      "\u001b[1;31mFile:\u001b[0m           c:\\users\\utkar\\appdata\\local\\programs\\python\\python310\\lib\\site-packages\\ipyvizzu.py\n",
      "\u001b[1;31mType:\u001b[0m           type\n",
      "\u001b[1;31mSubclasses:\u001b[0m     \n"
     ]
    }
   ],
   "source": [
    "Chart.animate"
   ]
  },
  {
   "cell_type": "code",
   "execution_count": null,
   "metadata": {},
   "outputs": [],
   "source": [
    "\n",
    "chart.animate(Config({\"x\": \"Count\", \"y\": \"Sex\", \"label\": \"Count\",\"title\":\"Passengers of the Titanic\"}))\n",
    "chart.animate(Config({\"x\": [\"Count\",\"Survived\"], \"label\": [\"Count\",\"Survived\"], \"color\": \"Survived\"}))\n",
    "chart.animate(Config({\"x\": \"Count\", \"y\": [\"Sex\",\"Survived\"]}))"
   ]
  }
 ],
 "metadata": {
  "kernelspec": {
   "display_name": "Python 3.10.2 64-bit",
   "language": "python",
   "name": "python3"
  },
  "language_info": {
   "codemirror_mode": {
    "name": "ipython",
    "version": 3
   },
   "file_extension": ".py",
   "mimetype": "text/x-python",
   "name": "python",
   "nbconvert_exporter": "python",
   "pygments_lexer": "ipython3",
   "version": "3.10.2"
  },
  "orig_nbformat": 4,
  "vscode": {
   "interpreter": {
    "hash": "308ad3920a9876ab7dc459a1cb03b01cdb074655bba97a15b266b82a48072fd3"
   }
  }
 },
 "nbformat": 4,
 "nbformat_minor": 2
}
