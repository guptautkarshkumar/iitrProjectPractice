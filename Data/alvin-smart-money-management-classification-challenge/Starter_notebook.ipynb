{
 "cells": [
  {
   "cell_type": "markdown",
   "metadata": {
    "id": "PvKRBlqreh9N"
   },
   "source": [
    "# AlvinApp Competition"
   ]
  },
  {
   "cell_type": "markdown",
   "metadata": {
    "id": "jNl4Kvk3d_s3"
   },
   "source": [
    "This is a simple starter notebook to get started with the AvinApp Competition on Zindi.\n",
    "\n",
    "This notebook covers:\n",
    "\n",
    "*   Loading the data\n",
    "*   Simple Exploratory Data Analysis and an example of feature engineering\n",
    "*   Data preprocessing and data wrangling\n",
    "*   Creating a simple model\n",
    "*   Making a submission\n",
    "*   Some tips for improving your score\n",
    "\n",
    "\n",
    "\n",
    "\n",
    "\n"
   ]
  },
  {
   "cell_type": "markdown",
   "metadata": {
    "id": "iYdpBYYceneg"
   },
   "source": [
    "## Importing libraries"
   ]
  },
  {
   "cell_type": "code",
   "execution_count": 1,
   "metadata": {
    "id": "06kkNxjIdgSW"
   },
   "outputs": [],
   "source": [
    "# Dataframe and Plotting libraries\n",
    "import pandas as pd\n",
    "import numpy as np\n",
    "import seaborn as sns\n",
    "import matplotlib.pyplot as plt\n",
    "\n",
    "# Machine Learning libraries\n",
    "from sklearn.preprocessing import StandardScaler\n",
    "from sklearn.tree import DecisionTreeClassifier\n",
    "from sklearn.metrics import accuracy_score, classification_report\n",
    "from sklearn.model_selection import train_test_split\n",
    "from sklearn.metrics import log_loss\n",
    "\n",
    "\n",
    "pd.set_option('display.max_columns', None)\n",
    "# from google.colab import files\n",
    "import warnings\n",
    "warnings.filterwarnings('ignore')"
   ]
  },
  {
   "cell_type": "markdown",
   "metadata": {
    "id": "J8AhJ0cKer7b"
   },
   "source": [
    "## 1. Load the dataset"
   ]
  },
  {
   "cell_type": "code",
   "execution_count": 2,
   "metadata": {
    "id": "n9KORySPiN1r"
   },
   "outputs": [],
   "source": [
    "# Testing path\n",
    "# path = '/content/drive/MyDrive/Colab Notebooks/alvinapp/'\n",
    "path = \"\""
   ]
  },
  {
   "cell_type": "code",
   "execution_count": 3,
   "metadata": {
    "id": "aPn2dmoMexCU"
   },
   "outputs": [],
   "source": [
    "# Load the files into a Pandas Dataframe\n",
    "train = pd.read_csv(path+'Train.csv')\n",
    "test = pd.read_csv(path+'Test.csv')\n",
    "ss = pd.read_csv(path+'SampleSubmission.csv')"
   ]
  },
  {
   "cell_type": "code",
   "execution_count": 4,
   "metadata": {
    "colab": {
     "base_uri": "https://localhost:8080/"
    },
    "id": "HSj_1Qz7ezsw",
    "outputId": "46425755-d8be-4bab-9d03-4e491eb3162a"
   },
   "outputs": [
    {
     "name": "stdout",
     "output_type": "stream",
     "text": [
      "Train data shape : (373, 12)\n",
      "Test data shape : (558, 11)\n"
     ]
    }
   ],
   "source": [
    "# Let’s observe the shape of our datasets.\n",
    "print('Train data shape :', train.shape)\n",
    "print('Test data shape :', test.shape)"
   ]
  },
  {
   "cell_type": "markdown",
   "metadata": {
    "id": "BJslatwHfAaN"
   },
   "source": [
    "The above output shows the number of rows and columns for train and test dataset. We have 12 variables in the train dataset, 11 independent variables and 1 dependent variable. In the test dataset, we have 11 independent variables.\n",
    "\n",
    "We can observe the first five rows from our data set by using the head() method from the pandas library."
   ]
  },
  {
   "cell_type": "code",
   "execution_count": 5,
   "metadata": {
    "colab": {
     "base_uri": "https://localhost:8080/",
     "height": 392
    },
    "id": "aeKToQ98lOVe",
    "outputId": "e3a03f67-a89b-4e9c-ca01-d5d713bc9f1b"
   },
   "outputs": [
    {
     "data": {
      "text/html": [
       "<div>\n",
       "<style scoped>\n",
       "    .dataframe tbody tr th:only-of-type {\n",
       "        vertical-align: middle;\n",
       "    }\n",
       "\n",
       "    .dataframe tbody tr th {\n",
       "        vertical-align: top;\n",
       "    }\n",
       "\n",
       "    .dataframe thead th {\n",
       "        text-align: right;\n",
       "    }\n",
       "</style>\n",
       "<table border=\"1\" class=\"dataframe\">\n",
       "  <thead>\n",
       "    <tr style=\"text-align: right;\">\n",
       "      <th></th>\n",
       "      <th>MERCHANT_CATEGORIZED_AT</th>\n",
       "      <th>MERCHANT_NAME</th>\n",
       "      <th>MERCHANT_CATEGORIZED_AS</th>\n",
       "      <th>PURCHASE_VALUE</th>\n",
       "      <th>PURCHASED_AT</th>\n",
       "      <th>IS_PURCHASE_PAID_VIA_MPESA_SEND_MONEY</th>\n",
       "      <th>USER_AGE</th>\n",
       "      <th>USER_GENDER</th>\n",
       "      <th>USER_HOUSEHOLD</th>\n",
       "      <th>USER_INCOME</th>\n",
       "      <th>USER_ID</th>\n",
       "      <th>Transaction_ID</th>\n",
       "    </tr>\n",
       "  </thead>\n",
       "  <tbody>\n",
       "    <tr>\n",
       "      <th>0</th>\n",
       "      <td>2022-05-04 10:24:26.709045+00</td>\n",
       "      <td>MICHAEL MUSEMBI</td>\n",
       "      <td>Bills &amp; Fees</td>\n",
       "      <td>60</td>\n",
       "      <td>2022-05-04 15:28:00+00</td>\n",
       "      <td>False</td>\n",
       "      <td>NaN</td>\n",
       "      <td>Male</td>\n",
       "      <td>3</td>\n",
       "      <td>10000</td>\n",
       "      <td>ID_ZX4DCF4K</td>\n",
       "      <td>ID_0kfcoawb</td>\n",
       "    </tr>\n",
       "    <tr>\n",
       "      <th>1</th>\n",
       "      <td>2022-05-31 13:27:24.704992+00</td>\n",
       "      <td>JULLY AKIN</td>\n",
       "      <td>Groceries</td>\n",
       "      <td>300</td>\n",
       "      <td>2022-05-12 19:07:00+00</td>\n",
       "      <td>True</td>\n",
       "      <td>NaN</td>\n",
       "      <td>Female</td>\n",
       "      <td>1</td>\n",
       "      <td>23000</td>\n",
       "      <td>ID_Y0386AT9</td>\n",
       "      <td>ID_i31ugjh3</td>\n",
       "    </tr>\n",
       "    <tr>\n",
       "      <th>2</th>\n",
       "      <td>2022-03-16 13:08:19.703288+00</td>\n",
       "      <td>GALITOS BELLEVUE</td>\n",
       "      <td>Going out</td>\n",
       "      <td>400</td>\n",
       "      <td>2021-09-04 17:00:00+00</td>\n",
       "      <td>False</td>\n",
       "      <td>NaN</td>\n",
       "      <td>Female</td>\n",
       "      <td>1</td>\n",
       "      <td>85000</td>\n",
       "      <td>ID_1I8XYBWK</td>\n",
       "      <td>ID_3ft5glff</td>\n",
       "    </tr>\n",
       "    <tr>\n",
       "      <th>3</th>\n",
       "      <td>2022-03-16 13:05:51.851102+00</td>\n",
       "      <td>TELKOM KENYA LIMITED</td>\n",
       "      <td>Data &amp; WiFi</td>\n",
       "      <td>100</td>\n",
       "      <td>2019-07-03 07:31:00+00</td>\n",
       "      <td>True</td>\n",
       "      <td>NaN</td>\n",
       "      <td>Female</td>\n",
       "      <td>1</td>\n",
       "      <td>85000</td>\n",
       "      <td>ID_1I8XYBWK</td>\n",
       "      <td>ID_i9drec69</td>\n",
       "    </tr>\n",
       "    <tr>\n",
       "      <th>4</th>\n",
       "      <td>2022-05-12 15:46:32.634262+00</td>\n",
       "      <td>KUNE FOOD LAB KENYA LIMITED</td>\n",
       "      <td>Miscellaneous</td>\n",
       "      <td>440</td>\n",
       "      <td>2022-04-28 11:22:00+00</td>\n",
       "      <td>False</td>\n",
       "      <td>NaN</td>\n",
       "      <td>Male</td>\n",
       "      <td>5</td>\n",
       "      <td>750000</td>\n",
       "      <td>ID_D8FOVVBB</td>\n",
       "      <td>ID_wax2ym8b</td>\n",
       "    </tr>\n",
       "  </tbody>\n",
       "</table>\n",
       "</div>"
      ],
      "text/plain": [
       "         MERCHANT_CATEGORIZED_AT                MERCHANT_NAME  \\\n",
       "0  2022-05-04 10:24:26.709045+00              MICHAEL MUSEMBI   \n",
       "1  2022-05-31 13:27:24.704992+00                   JULLY AKIN   \n",
       "2  2022-03-16 13:08:19.703288+00             GALITOS BELLEVUE   \n",
       "3  2022-03-16 13:05:51.851102+00         TELKOM KENYA LIMITED   \n",
       "4  2022-05-12 15:46:32.634262+00  KUNE FOOD LAB KENYA LIMITED   \n",
       "\n",
       "  MERCHANT_CATEGORIZED_AS  PURCHASE_VALUE            PURCHASED_AT  \\\n",
       "0            Bills & Fees              60  2022-05-04 15:28:00+00   \n",
       "1               Groceries             300  2022-05-12 19:07:00+00   \n",
       "2               Going out             400  2021-09-04 17:00:00+00   \n",
       "3             Data & WiFi             100  2019-07-03 07:31:00+00   \n",
       "4           Miscellaneous             440  2022-04-28 11:22:00+00   \n",
       "\n",
       "   IS_PURCHASE_PAID_VIA_MPESA_SEND_MONEY  USER_AGE USER_GENDER  \\\n",
       "0                                  False       NaN        Male   \n",
       "1                                   True       NaN      Female   \n",
       "2                                  False       NaN      Female   \n",
       "3                                   True       NaN      Female   \n",
       "4                                  False       NaN        Male   \n",
       "\n",
       "   USER_HOUSEHOLD  USER_INCOME      USER_ID Transaction_ID  \n",
       "0               3        10000  ID_ZX4DCF4K    ID_0kfcoawb  \n",
       "1               1        23000  ID_Y0386AT9    ID_i31ugjh3  \n",
       "2               1        85000  ID_1I8XYBWK    ID_3ft5glff  \n",
       "3               1        85000  ID_1I8XYBWK    ID_i9drec69  \n",
       "4               5       750000  ID_D8FOVVBB    ID_wax2ym8b  "
      ]
     },
     "execution_count": 5,
     "metadata": {},
     "output_type": "execute_result"
    }
   ],
   "source": [
    "# Inspect the training data\n",
    "train.head()"
   ]
  },
  {
   "cell_type": "markdown",
   "metadata": {
    "id": "Lp2Ci3uLtN_C"
   },
   "source": [
    "It is important to understand the meaning of each feature so you can really understand the dataset. You can read the VariableDefinition.csv file to understand the meaning of each variable presented in the dataset.\n",
    "\n",
    "The SampleSubmission.csv gives us an example of what our submission file should look like. This file will contain the unique id column combined with the merchant name from the Test.csv file and the target we predict with our model. Once we have created this file, we will submit it to the competition page and obtain a position on the leaderboard."
   ]
  },
  {
   "cell_type": "code",
   "execution_count": 6,
   "metadata": {
    "colab": {
     "base_uri": "https://localhost:8080/",
     "height": 392
    },
    "id": "fhD55_f3tYAE",
    "outputId": "247cf126-e36a-4d6a-fca5-c6cef9138055"
   },
   "outputs": [
    {
     "data": {
      "text/html": [
       "<div>\n",
       "<style scoped>\n",
       "    .dataframe tbody tr th:only-of-type {\n",
       "        vertical-align: middle;\n",
       "    }\n",
       "\n",
       "    .dataframe tbody tr th {\n",
       "        vertical-align: top;\n",
       "    }\n",
       "\n",
       "    .dataframe thead th {\n",
       "        text-align: right;\n",
       "    }\n",
       "</style>\n",
       "<table border=\"1\" class=\"dataframe\">\n",
       "  <thead>\n",
       "    <tr style=\"text-align: right;\">\n",
       "      <th></th>\n",
       "      <th>Transaction_ID</th>\n",
       "      <th>Bills &amp; Fees</th>\n",
       "      <th>Data &amp; WiFi</th>\n",
       "      <th>Education</th>\n",
       "      <th>Emergency fund</th>\n",
       "      <th>Family &amp; Friends</th>\n",
       "      <th>Going out</th>\n",
       "      <th>Groceries</th>\n",
       "      <th>Health</th>\n",
       "      <th>Loan Repayment</th>\n",
       "      <th>Miscellaneous</th>\n",
       "      <th>Rent / Mortgage</th>\n",
       "      <th>Shopping</th>\n",
       "      <th>Transport &amp; Fuel</th>\n",
       "    </tr>\n",
       "  </thead>\n",
       "  <tbody>\n",
       "    <tr>\n",
       "      <th>0</th>\n",
       "      <td>ID_aclde4g8</td>\n",
       "      <td>0</td>\n",
       "      <td>0</td>\n",
       "      <td>0</td>\n",
       "      <td>0</td>\n",
       "      <td>0</td>\n",
       "      <td>0</td>\n",
       "      <td>0</td>\n",
       "      <td>0</td>\n",
       "      <td>0</td>\n",
       "      <td>0</td>\n",
       "      <td>0</td>\n",
       "      <td>0</td>\n",
       "      <td>0</td>\n",
       "    </tr>\n",
       "    <tr>\n",
       "      <th>1</th>\n",
       "      <td>ID_gzsdiej7</td>\n",
       "      <td>0</td>\n",
       "      <td>0</td>\n",
       "      <td>0</td>\n",
       "      <td>0</td>\n",
       "      <td>0</td>\n",
       "      <td>0</td>\n",
       "      <td>0</td>\n",
       "      <td>0</td>\n",
       "      <td>0</td>\n",
       "      <td>0</td>\n",
       "      <td>0</td>\n",
       "      <td>0</td>\n",
       "      <td>0</td>\n",
       "    </tr>\n",
       "    <tr>\n",
       "      <th>2</th>\n",
       "      <td>ID_h76zkmwk</td>\n",
       "      <td>0</td>\n",
       "      <td>0</td>\n",
       "      <td>0</td>\n",
       "      <td>0</td>\n",
       "      <td>0</td>\n",
       "      <td>0</td>\n",
       "      <td>0</td>\n",
       "      <td>0</td>\n",
       "      <td>0</td>\n",
       "      <td>0</td>\n",
       "      <td>0</td>\n",
       "      <td>0</td>\n",
       "      <td>0</td>\n",
       "    </tr>\n",
       "    <tr>\n",
       "      <th>3</th>\n",
       "      <td>ID_xz7r1y3i</td>\n",
       "      <td>0</td>\n",
       "      <td>0</td>\n",
       "      <td>0</td>\n",
       "      <td>0</td>\n",
       "      <td>0</td>\n",
       "      <td>0</td>\n",
       "      <td>0</td>\n",
       "      <td>0</td>\n",
       "      <td>0</td>\n",
       "      <td>0</td>\n",
       "      <td>0</td>\n",
       "      <td>0</td>\n",
       "      <td>0</td>\n",
       "    </tr>\n",
       "    <tr>\n",
       "      <th>4</th>\n",
       "      <td>ID_h159qook</td>\n",
       "      <td>0</td>\n",
       "      <td>0</td>\n",
       "      <td>0</td>\n",
       "      <td>0</td>\n",
       "      <td>0</td>\n",
       "      <td>0</td>\n",
       "      <td>0</td>\n",
       "      <td>0</td>\n",
       "      <td>0</td>\n",
       "      <td>0</td>\n",
       "      <td>0</td>\n",
       "      <td>0</td>\n",
       "      <td>0</td>\n",
       "    </tr>\n",
       "  </tbody>\n",
       "</table>\n",
       "</div>"
      ],
      "text/plain": [
       "  Transaction_ID  Bills & Fees  Data & WiFi  Education  Emergency fund  \\\n",
       "0    ID_aclde4g8             0            0          0               0   \n",
       "1    ID_gzsdiej7             0            0          0               0   \n",
       "2    ID_h76zkmwk             0            0          0               0   \n",
       "3    ID_xz7r1y3i             0            0          0               0   \n",
       "4    ID_h159qook             0            0          0               0   \n",
       "\n",
       "   Family & Friends  Going out  Groceries  Health  Loan Repayment  \\\n",
       "0                 0          0          0       0               0   \n",
       "1                 0          0          0       0               0   \n",
       "2                 0          0          0       0               0   \n",
       "3                 0          0          0       0               0   \n",
       "4                 0          0          0       0               0   \n",
       "\n",
       "   Miscellaneous  Rent / Mortgage  Shopping  Transport & Fuel  \n",
       "0              0                0         0                 0  \n",
       "1              0                0         0                 0  \n",
       "2              0                0         0                 0  \n",
       "3              0                0         0                 0  \n",
       "4              0                0         0                 0  "
      ]
     },
     "execution_count": 6,
     "metadata": {},
     "output_type": "execute_result"
    }
   ],
   "source": [
    "# View the submission file\n",
    "ss.head()"
   ]
  },
  {
   "cell_type": "markdown",
   "metadata": {
    "id": "uR7H9KmYtqqg"
   },
   "source": [
    "## 2. Understand the dataset"
   ]
  },
  {
   "cell_type": "markdown",
   "metadata": {
    "id": "6Gp_xSOrtyfj"
   },
   "source": [
    "Let's look at a bar graph of the train data."
   ]
  },
  {
   "cell_type": "code",
   "execution_count": 7,
   "metadata": {
    "colab": {
     "base_uri": "https://localhost:8080/",
     "height": 780
    },
    "id": "3_E4cGDvstrK",
    "outputId": "bd8ff217-3d67-4ea2-cc07-c2198433ddee"
   },
   "outputs": [
    {
     "data": {
      "text/plain": [
       "<BarContainer object of 373 artists>"
      ]
     },
     "execution_count": 7,
     "metadata": {},
     "output_type": "execute_result"
    },
    {
     "data": {
      "image/png": "[encoded data removed]",
      "text/plain": [
       "<Figure size 800x600 with 1 Axes>"
      ]
     },
     "metadata": {
      "needs_background": "light"
     },
     "output_type": "display_data"
    }
   ],
   "source": [
    "# Show a bar graph of the purchase_value vs the target in the train data (merchant_categorized_as)\n",
    "plt.figure(dpi=200, figsize=(4,3))\n",
    "plt.xticks(rotation=90)\n",
    "plt.bar(data=train, x='MERCHANT_CATEGORIZED_AS', height='PURCHASE_VALUE')"
   ]
  },
  {
   "cell_type": "markdown",
   "metadata": {
    "id": "8NZhaPZIs2xk"
   },
   "source": [
    "It's interesting to note that more money was spent on education than bills & fees, emergency fund, rent/mortgage and loan repayment.\n",
    "\n",
    "Also very little was spent on health and transport & fuel."
   ]
  },
  {
   "cell_type": "markdown",
   "metadata": {
    "id": "nkFQ1a_klXwd"
   },
   "source": [
    "Let's look at more detail by running the .info method\n",
    "\n",
    "The output shows the list of variables/features, sizes, if it contains missing values and the data type for each variable. We have 3 features of the integer data type, 6 features of the object data type, 1 of the boolean data type and 1 of the float data type.\n",
    "\n",
    "If you want to learn how to handle missing data in your dataset, we recommend you read [How to Handle Missing Data with Python](https://machinelearningmastery.com/handle-missing-data-python/) by Jason Brownlee.\n",
    "\n",
    "For more information you can visit the link below.\n",
    "\n",
    "[Why you need to explore your data and how you can start](https://https://medium.com/analytics-vidhya/why-you-need-to-explore-your-data-how-you-can-start-13de6f29c8c1)"
   ]
  },
  {
   "cell_type": "markdown",
   "metadata": {
    "id": "wKJswRvsyD8d"
   },
   "source": [
    "Encode the target labels to values to show a correlation matrix."
   ]
  },
  {
   "cell_type": "code",
   "execution_count": 8,
   "metadata": {
    "colab": {
     "base_uri": "https://localhost:8080/"
    },
    "id": "zTPRRb1dyH2R",
    "outputId": "51dff886-5657-468c-be0a-c955660ff7f7"
   },
   "outputs": [
    {
     "name": "stdout",
     "output_type": "stream",
     "text": [
      "Train data:  {'MERCHANT_CATEGORIZED_AS': {'Bills & Fees': 1, 'Data & WiFi': 2, 'Education': 3, 'Emergency fund': 4, 'Family & Friends': 5, 'Going out': 6, 'Groceries': 7, 'Health': 8, 'Loan Repayment': 9, 'Miscellaneous': 10, 'Rent / Mortgage': 11, 'Shopping': 12, 'Transport & Fuel': 13}}\n"
     ]
    }
   ],
   "source": [
    "# Use a dictionary comprehension and zip to create a dictionary for all the categories in the train data\n",
    "labels_train = train['MERCHANT_CATEGORIZED_AS'].astype('category').cat.categories.tolist()\n",
    "replace_map_train = {'MERCHANT_CATEGORIZED_AS' : {k: v for k,v in zip(labels_train,list(range(1,len(labels_train)+1)))}}\n",
    "print(\"Train data: \", replace_map_train)"
   ]
  },
  {
   "cell_type": "code",
   "execution_count": 9,
   "metadata": {
    "id": "YEnKu6HjyM2z"
   },
   "outputs": [],
   "source": [
    "# Create a copy to use for the correlation matrix (as it only accepts numerical data)\n",
    "train_data_corr = train.copy()"
   ]
  },
  {
   "cell_type": "code",
   "execution_count": 10,
   "metadata": {
    "id": "GvFoJNrXyQsp"
   },
   "outputs": [],
   "source": [
    "# Replace the categories with the numerical equivalents from the dictionary\n",
    "train_data_corr.replace(replace_map_train, inplace=True)"
   ]
  },
  {
   "cell_type": "markdown",
   "metadata": {
    "id": "RM0Z7YtByZZ8"
   },
   "source": [
    "Correlation matrix"
   ]
  },
  {
   "cell_type": "code",
   "execution_count": 11,
   "metadata": {
    "colab": {
     "base_uri": "https://localhost:8080/"
    },
    "id": "OunGY3AeyYVC",
    "outputId": "e03cb524-8871-40b7-8e91-187234adbb51"
   },
   "outputs": [
    {
     "data": {
      "text/plain": [
       "MERCHANT_CATEGORIZED_AS                  1.000000\n",
       "PURCHASE_VALUE                          -0.074565\n",
       "IS_PURCHASE_PAID_VIA_MPESA_SEND_MONEY   -0.086870\n",
       "USER_AGE                                 0.143406\n",
       "USER_HOUSEHOLD                          -0.012197\n",
       "USER_INCOME                              0.041954\n",
       "Name: MERCHANT_CATEGORIZED_AS, dtype: float64"
      ]
     },
     "execution_count": 11,
     "metadata": {},
     "output_type": "execute_result"
    }
   ],
   "source": [
    "train_data_corr[train_data_corr.columns[1:]].corr()['MERCHANT_CATEGORIZED_AS'][:]"
   ]
  },
  {
   "cell_type": "markdown",
   "metadata": {
    "id": "_-xUy1m1zSro"
   },
   "source": [
    "We can see that not many things are correlated with MERCHANT_CATEGORIZED_AS, so it seems like we don't have enough data."
   ]
  },
  {
   "cell_type": "markdown",
   "metadata": {
    "id": "brJlTnmLzkiZ"
   },
   "source": [
    "We need to drop empty rows if there are any."
   ]
  },
  {
   "cell_type": "code",
   "execution_count": 12,
   "metadata": {
    "id": "BgS1RoLfzmVY"
   },
   "outputs": [],
   "source": [
    "train.dropna(how='all', inplace=True)\n",
    "test.dropna(how='all', inplace=True)"
   ]
  },
  {
   "cell_type": "code",
   "execution_count": 13,
   "metadata": {
    "colab": {
     "base_uri": "https://localhost:8080/"
    },
    "id": "p7E3HCJrlbzH",
    "outputId": "df336577-dcde-41d7-901d-aa45b62efa6c"
   },
   "outputs": [
    {
     "name": "stdout",
     "output_type": "stream",
     "text": [
      "<class 'pandas.core.frame.DataFrame'>\n",
      "RangeIndex: 373 entries, 0 to 372\n",
      "Data columns (total 12 columns):\n",
      " #   Column                                 Non-Null Count  Dtype  \n",
      "---  ------                                 --------------  -----  \n",
      " 0   MERCHANT_CATEGORIZED_AT                373 non-null    object \n",
      " 1   MERCHANT_NAME                          373 non-null    object \n",
      " 2   MERCHANT_CATEGORIZED_AS                373 non-null    object \n",
      " 3   PURCHASE_VALUE                         373 non-null    int64  \n",
      " 4   PURCHASED_AT                           373 non-null    object \n",
      " 5   IS_PURCHASE_PAID_VIA_MPESA_SEND_MONEY  373 non-null    bool   \n",
      " 6   USER_AGE                               61 non-null     float64\n",
      " 7   USER_GENDER                            367 non-null    object \n",
      " 8   USER_HOUSEHOLD                         373 non-null    int64  \n",
      " 9   USER_INCOME                            373 non-null    int64  \n",
      " 10  USER_ID                                373 non-null    object \n",
      " 11  Transaction_ID                         373 non-null    object \n",
      "dtypes: bool(1), float64(1), int64(3), object(7)\n",
      "memory usage: 32.5+ KB\n"
     ]
    }
   ],
   "source": [
    "train.info()"
   ]
  },
  {
   "cell_type": "code",
   "execution_count": 14,
   "metadata": {
    "colab": {
     "base_uri": "https://localhost:8080/"
    },
    "id": "dO5EObekv7rm",
    "outputId": "630d70c0-8ba9-4bbe-c4a6-a31f03859599"
   },
   "outputs": [
    {
     "name": "stdout",
     "output_type": "stream",
     "text": [
      "<class 'pandas.core.frame.DataFrame'>\n",
      "RangeIndex: 558 entries, 0 to 557\n",
      "Data columns (total 11 columns):\n",
      " #   Column                                 Non-Null Count  Dtype  \n",
      "---  ------                                 --------------  -----  \n",
      " 0   MERCHANT_CATEGORIZED_AT                558 non-null    object \n",
      " 1   MERCHANT_NAME                          558 non-null    object \n",
      " 2   PURCHASE_VALUE                         558 non-null    int64  \n",
      " 3   PURCHASED_AT                           558 non-null    object \n",
      " 4   IS_PURCHASE_PAID_VIA_MPESA_SEND_MONEY  558 non-null    bool   \n",
      " 5   USER_AGE                               85 non-null     float64\n",
      " 6   USER_GENDER                            553 non-null    object \n",
      " 7   USER_HOUSEHOLD                         558 non-null    int64  \n",
      " 8   USER_INCOME                            558 non-null    int64  \n",
      " 9   USER_ID                                558 non-null    object \n",
      " 10  Transaction_ID                         558 non-null    object \n",
      "dtypes: bool(1), float64(1), int64(3), object(6)\n",
      "memory usage: 44.3+ KB\n"
     ]
    }
   ],
   "source": [
    "test.info()"
   ]
  },
  {
   "cell_type": "markdown",
   "metadata": {
    "id": "plxS_TN5lvaR"
   },
   "source": [
    "We can see that the number of entries in Age for the Test set don't correspond to the rest of its entries and for the Train set there are missing entries for Age and for Gender, which means we have some missing values."
   ]
  },
  {
   "cell_type": "code",
   "execution_count": 15,
   "metadata": {
    "colab": {
     "base_uri": "https://localhost:8080/"
    },
    "id": "AHANXSdvmdy8",
    "outputId": "e52e4cd6-b935-4f9f-e519-36899c61e44a"
   },
   "outputs": [
    {
     "name": "stdout",
     "output_type": "stream",
     "text": [
      "Missing values for Train: MERCHANT_CATEGORIZED_AT                    0\n",
      "MERCHANT_NAME                              0\n",
      "MERCHANT_CATEGORIZED_AS                    0\n",
      "PURCHASE_VALUE                             0\n",
      "PURCHASED_AT                               0\n",
      "IS_PURCHASE_PAID_VIA_MPESA_SEND_MONEY      0\n",
      "USER_AGE                                 312\n",
      "USER_GENDER                                6\n",
      "USER_HOUSEHOLD                             0\n",
      "USER_INCOME                                0\n",
      "USER_ID                                    0\n",
      "Transaction_ID                             0\n",
      "dtype: int64\n",
      "\n",
      "Missing values for Test: MERCHANT_CATEGORIZED_AT                    0\n",
      "MERCHANT_NAME                              0\n",
      "PURCHASE_VALUE                             0\n",
      "PURCHASED_AT                               0\n",
      "IS_PURCHASE_PAID_VIA_MPESA_SEND_MONEY      0\n",
      "USER_AGE                                 473\n",
      "USER_GENDER                                5\n",
      "USER_HOUSEHOLD                             0\n",
      "USER_INCOME                                0\n",
      "USER_ID                                    0\n",
      "Transaction_ID                             0\n",
      "dtype: int64\n"
     ]
    }
   ],
   "source": [
    "# We can also use the .isnull() method to check for empty values\n",
    "print('Missing values for Train:', train.isnull().sum())\n",
    "print('')\n",
    "print('Missing values for Test:', test.isnull().sum())"
   ]
  },
  {
   "cell_type": "markdown",
   "metadata": {
    "id": "G4PFdHy_mr9-"
   },
   "source": [
    "There are 4 missing Gender entries and 329 missing Age entries in the train data and 591 missing Age entries for the test data."
   ]
  },
  {
   "cell_type": "code",
   "execution_count": 16,
   "metadata": {
    "colab": {
     "base_uri": "https://localhost:8080/",
     "height": 326
    },
    "id": "lNmbB4W4m-Xy",
    "outputId": "0ee48460-dc9a-4f64-c822-9b5ba73fa363"
   },
   "outputs": [
    {
     "data": {
      "text/html": [
       "<div>\n",
       "<style scoped>\n",
       "    .dataframe tbody tr th:only-of-type {\n",
       "        vertical-align: middle;\n",
       "    }\n",
       "\n",
       "    .dataframe tbody tr th {\n",
       "        vertical-align: top;\n",
       "    }\n",
       "\n",
       "    .dataframe thead th {\n",
       "        text-align: right;\n",
       "    }\n",
       "</style>\n",
       "<table border=\"1\" class=\"dataframe\">\n",
       "  <thead>\n",
       "    <tr style=\"text-align: right;\">\n",
       "      <th></th>\n",
       "      <th>MERCHANT_CATEGORIZED_AT</th>\n",
       "      <th>MERCHANT_NAME</th>\n",
       "      <th>MERCHANT_CATEGORIZED_AS</th>\n",
       "      <th>PURCHASE_VALUE</th>\n",
       "      <th>PURCHASED_AT</th>\n",
       "      <th>IS_PURCHASE_PAID_VIA_MPESA_SEND_MONEY</th>\n",
       "      <th>USER_AGE</th>\n",
       "      <th>USER_GENDER</th>\n",
       "      <th>USER_HOUSEHOLD</th>\n",
       "      <th>USER_INCOME</th>\n",
       "      <th>USER_ID</th>\n",
       "      <th>Transaction_ID</th>\n",
       "    </tr>\n",
       "  </thead>\n",
       "  <tbody>\n",
       "    <tr>\n",
       "      <th>54</th>\n",
       "      <td>2021-11-30 10:52:38.553994+00</td>\n",
       "      <td>NAOMI  WANJOHI</td>\n",
       "      <td>Family &amp; Friends</td>\n",
       "      <td>1028</td>\n",
       "      <td>2021-05-13 14:28:00+00</td>\n",
       "      <td>True</td>\n",
       "      <td>NaN</td>\n",
       "      <td>NaN</td>\n",
       "      <td>1</td>\n",
       "      <td>10000</td>\n",
       "      <td>ID_R4T8Q46J</td>\n",
       "      <td>ID_u02b0hl6</td>\n",
       "    </tr>\n",
       "    <tr>\n",
       "      <th>108</th>\n",
       "      <td>2021-11-30 10:51:36.702996+00</td>\n",
       "      <td>POA</td>\n",
       "      <td>Data &amp; WiFi</td>\n",
       "      <td>1500</td>\n",
       "      <td>2021-07-21 17:46:00+00</td>\n",
       "      <td>False</td>\n",
       "      <td>NaN</td>\n",
       "      <td>NaN</td>\n",
       "      <td>1</td>\n",
       "      <td>10000</td>\n",
       "      <td>ID_R4T8Q46J</td>\n",
       "      <td>ID_uvhgthza</td>\n",
       "    </tr>\n",
       "    <tr>\n",
       "      <th>124</th>\n",
       "      <td>2021-08-06 11:28:03.723042+00</td>\n",
       "      <td>EQUITY PAYBILL</td>\n",
       "      <td>Shopping</td>\n",
       "      <td>4000</td>\n",
       "      <td>2021-07-25 10:54:00+00</td>\n",
       "      <td>True</td>\n",
       "      <td>NaN</td>\n",
       "      <td>NaN</td>\n",
       "      <td>1</td>\n",
       "      <td>10000</td>\n",
       "      <td>ID_R4T8Q46J</td>\n",
       "      <td>ID_qvgzrt0r</td>\n",
       "    </tr>\n",
       "    <tr>\n",
       "      <th>150</th>\n",
       "      <td>2021-11-30 10:51:36.702996+00</td>\n",
       "      <td>IDEAL APPLIANCES</td>\n",
       "      <td>Bills &amp; Fees</td>\n",
       "      <td>24995</td>\n",
       "      <td>2021-05-06 14:14:00+00</td>\n",
       "      <td>False</td>\n",
       "      <td>NaN</td>\n",
       "      <td>NaN</td>\n",
       "      <td>1</td>\n",
       "      <td>10000</td>\n",
       "      <td>ID_R4T8Q46J</td>\n",
       "      <td>ID_3xlptxy6</td>\n",
       "    </tr>\n",
       "    <tr>\n",
       "      <th>293</th>\n",
       "      <td>2021-11-30 10:51:36.702996+00</td>\n",
       "      <td>MIRIAM  MUNGAI</td>\n",
       "      <td>Family &amp; Friends</td>\n",
       "      <td>1600</td>\n",
       "      <td>2021-06-11 18:25:00+00</td>\n",
       "      <td>True</td>\n",
       "      <td>NaN</td>\n",
       "      <td>NaN</td>\n",
       "      <td>1</td>\n",
       "      <td>10000</td>\n",
       "      <td>ID_R4T8Q46J</td>\n",
       "      <td>ID_yxz5etfz</td>\n",
       "    </tr>\n",
       "    <tr>\n",
       "      <th>323</th>\n",
       "      <td>2021-11-30 10:52:38.553994+00</td>\n",
       "      <td>QUICK MART</td>\n",
       "      <td>Shopping</td>\n",
       "      <td>3298</td>\n",
       "      <td>2021-06-19 15:05:00+00</td>\n",
       "      <td>False</td>\n",
       "      <td>NaN</td>\n",
       "      <td>NaN</td>\n",
       "      <td>1</td>\n",
       "      <td>10000</td>\n",
       "      <td>ID_R4T8Q46J</td>\n",
       "      <td>ID_dhp3d403</td>\n",
       "    </tr>\n",
       "  </tbody>\n",
       "</table>\n",
       "</div>"
      ],
      "text/plain": [
       "           MERCHANT_CATEGORIZED_AT     MERCHANT_NAME MERCHANT_CATEGORIZED_AS  \\\n",
       "54   2021-11-30 10:52:38.553994+00    NAOMI  WANJOHI        Family & Friends   \n",
       "108  2021-11-30 10:51:36.702996+00               POA             Data & WiFi   \n",
       "124  2021-08-06 11:28:03.723042+00    EQUITY PAYBILL                Shopping   \n",
       "150  2021-11-30 10:51:36.702996+00  IDEAL APPLIANCES            Bills & Fees   \n",
       "293  2021-11-30 10:51:36.702996+00    MIRIAM  MUNGAI        Family & Friends   \n",
       "323  2021-11-30 10:52:38.553994+00        QUICK MART                Shopping   \n",
       "\n",
       "     PURCHASE_VALUE            PURCHASED_AT  \\\n",
       "54             1028  2021-05-13 14:28:00+00   \n",
       "108            1500  2021-07-21 17:46:00+00   \n",
       "124            4000  2021-07-25 10:54:00+00   \n",
       "150           24995  2021-05-06 14:14:00+00   \n",
       "293            1600  2021-06-11 18:25:00+00   \n",
       "323            3298  2021-06-19 15:05:00+00   \n",
       "\n",
       "     IS_PURCHASE_PAID_VIA_MPESA_SEND_MONEY  USER_AGE USER_GENDER  \\\n",
       "54                                    True       NaN         NaN   \n",
       "108                                  False       NaN         NaN   \n",
       "124                                   True       NaN         NaN   \n",
       "150                                  False       NaN         NaN   \n",
       "293                                   True       NaN         NaN   \n",
       "323                                  False       NaN         NaN   \n",
       "\n",
       "     USER_HOUSEHOLD  USER_INCOME      USER_ID Transaction_ID  \n",
       "54                1        10000  ID_R4T8Q46J    ID_u02b0hl6  \n",
       "108               1        10000  ID_R4T8Q46J    ID_uvhgthza  \n",
       "124               1        10000  ID_R4T8Q46J    ID_qvgzrt0r  \n",
       "150               1        10000  ID_R4T8Q46J    ID_3xlptxy6  \n",
       "293               1        10000  ID_R4T8Q46J    ID_yxz5etfz  \n",
       "323               1        10000  ID_R4T8Q46J    ID_dhp3d403  "
      ]
     },
     "execution_count": 16,
     "metadata": {},
     "output_type": "execute_result"
    }
   ],
   "source": [
    "train[train['USER_GENDER'].isnull()]"
   ]
  },
  {
   "cell_type": "code",
   "execution_count": 17,
   "metadata": {},
   "outputs": [
    {
     "data": {
      "text/html": [
       "<div>\n",
       "<style scoped>\n",
       "    .dataframe tbody tr th:only-of-type {\n",
       "        vertical-align: middle;\n",
       "    }\n",
       "\n",
       "    .dataframe tbody tr th {\n",
       "        vertical-align: top;\n",
       "    }\n",
       "\n",
       "    .dataframe thead th {\n",
       "        text-align: right;\n",
       "    }\n",
       "</style>\n",
       "<table border=\"1\" class=\"dataframe\">\n",
       "  <thead>\n",
       "    <tr style=\"text-align: right;\">\n",
       "      <th></th>\n",
       "      <th>MERCHANT_CATEGORIZED_AT</th>\n",
       "      <th>MERCHANT_NAME</th>\n",
       "      <th>PURCHASE_VALUE</th>\n",
       "      <th>PURCHASED_AT</th>\n",
       "      <th>IS_PURCHASE_PAID_VIA_MPESA_SEND_MONEY</th>\n",
       "      <th>USER_AGE</th>\n",
       "      <th>USER_GENDER</th>\n",
       "      <th>USER_HOUSEHOLD</th>\n",
       "      <th>USER_INCOME</th>\n",
       "      <th>USER_ID</th>\n",
       "      <th>Transaction_ID</th>\n",
       "    </tr>\n",
       "  </thead>\n",
       "  <tbody>\n",
       "    <tr>\n",
       "      <th>57</th>\n",
       "      <td>2021-11-30 10:52:38.553994+00</td>\n",
       "      <td>POA</td>\n",
       "      <td>1500</td>\n",
       "      <td>2021-05-22 19:11:00+00</td>\n",
       "      <td>False</td>\n",
       "      <td>NaN</td>\n",
       "      <td>NaN</td>\n",
       "      <td>1</td>\n",
       "      <td>10000</td>\n",
       "      <td>ID_R4T8Q46J</td>\n",
       "      <td>ID_zqi8lti6</td>\n",
       "    </tr>\n",
       "    <tr>\n",
       "      <th>315</th>\n",
       "      <td>2021-11-30 10:51:36.702996+00</td>\n",
       "      <td>DORCAS  WANJOHI</td>\n",
       "      <td>2600</td>\n",
       "      <td>2021-06-07 14:05:00+00</td>\n",
       "      <td>True</td>\n",
       "      <td>NaN</td>\n",
       "      <td>NaN</td>\n",
       "      <td>1</td>\n",
       "      <td>10000</td>\n",
       "      <td>ID_R4T8Q46J</td>\n",
       "      <td>ID_qd7dgqor</td>\n",
       "    </tr>\n",
       "    <tr>\n",
       "      <th>456</th>\n",
       "      <td>2021-11-30 10:51:36.702996+00</td>\n",
       "      <td>MICHELLE  RODROT</td>\n",
       "      <td>827</td>\n",
       "      <td>2021-07-22 13:36:00+00</td>\n",
       "      <td>True</td>\n",
       "      <td>NaN</td>\n",
       "      <td>NaN</td>\n",
       "      <td>1</td>\n",
       "      <td>10000</td>\n",
       "      <td>ID_R4T8Q46J</td>\n",
       "      <td>ID_p5ajidvp</td>\n",
       "    </tr>\n",
       "    <tr>\n",
       "      <th>481</th>\n",
       "      <td>2021-11-30 10:51:36.702996+00</td>\n",
       "      <td>PETER  INDIMULI</td>\n",
       "      <td>1028</td>\n",
       "      <td>2021-04-08 12:07:00+00</td>\n",
       "      <td>True</td>\n",
       "      <td>NaN</td>\n",
       "      <td>NaN</td>\n",
       "      <td>1</td>\n",
       "      <td>10000</td>\n",
       "      <td>ID_R4T8Q46J</td>\n",
       "      <td>ID_9au0g3qv</td>\n",
       "    </tr>\n",
       "    <tr>\n",
       "      <th>541</th>\n",
       "      <td>2021-08-06 11:28:16.857538+00</td>\n",
       "      <td>ACCESS AFYA</td>\n",
       "      <td>1</td>\n",
       "      <td>2021-08-05 09:32:00+00</td>\n",
       "      <td>False</td>\n",
       "      <td>NaN</td>\n",
       "      <td>NaN</td>\n",
       "      <td>1</td>\n",
       "      <td>10000</td>\n",
       "      <td>ID_R4T8Q46J</td>\n",
       "      <td>ID_8oyhw5j0</td>\n",
       "    </tr>\n",
       "  </tbody>\n",
       "</table>\n",
       "</div>"
      ],
      "text/plain": [
       "           MERCHANT_CATEGORIZED_AT     MERCHANT_NAME  PURCHASE_VALUE  \\\n",
       "57   2021-11-30 10:52:38.553994+00               POA            1500   \n",
       "315  2021-11-30 10:51:36.702996+00   DORCAS  WANJOHI            2600   \n",
       "456  2021-11-30 10:51:36.702996+00  MICHELLE  RODROT             827   \n",
       "481  2021-11-30 10:51:36.702996+00   PETER  INDIMULI            1028   \n",
       "541  2021-08-06 11:28:16.857538+00       ACCESS AFYA               1   \n",
       "\n",
       "               PURCHASED_AT  IS_PURCHASE_PAID_VIA_MPESA_SEND_MONEY  USER_AGE  \\\n",
       "57   2021-05-22 19:11:00+00                                  False       NaN   \n",
       "315  2021-06-07 14:05:00+00                                   True       NaN   \n",
       "456  2021-07-22 13:36:00+00                                   True       NaN   \n",
       "481  2021-04-08 12:07:00+00                                   True       NaN   \n",
       "541  2021-08-05 09:32:00+00                                  False       NaN   \n",
       "\n",
       "    USER_GENDER  USER_HOUSEHOLD  USER_INCOME      USER_ID Transaction_ID  \n",
       "57          NaN               1        10000  ID_R4T8Q46J    ID_zqi8lti6  \n",
       "315         NaN               1        10000  ID_R4T8Q46J    ID_qd7dgqor  \n",
       "456         NaN               1        10000  ID_R4T8Q46J    ID_p5ajidvp  \n",
       "481         NaN               1        10000  ID_R4T8Q46J    ID_9au0g3qv  \n",
       "541         NaN               1        10000  ID_R4T8Q46J    ID_8oyhw5j0  "
      ]
     },
     "execution_count": 17,
     "metadata": {},
     "output_type": "execute_result"
    }
   ],
   "source": [
    "test[test['USER_GENDER'].isnull()]"
   ]
  },
  {
   "cell_type": "markdown",
   "metadata": {
    "id": "iqPs_Z9L1TuC"
   },
   "source": [
    "### Empty entries"
   ]
  },
  {
   "cell_type": "markdown",
   "metadata": {
    "id": "tNGDf7vvp4dI"
   },
   "source": [
    "By further investigation we see that the empty gender entries in the train set are all for one user: ID_R4T8Q46J in both train and test, therefore we can fill the gender with a value"
   ]
  },
  {
   "cell_type": "code",
   "execution_count": 18,
   "metadata": {},
   "outputs": [
    {
     "data": {
      "text/plain": [
       "Male      197\n",
       "Female    170\n",
       "Name: USER_GENDER, dtype: int64"
      ]
     },
     "execution_count": 18,
     "metadata": {},
     "output_type": "execute_result"
    }
   ],
   "source": [
    "train.USER_GENDER.value_counts()"
   ]
  },
  {
   "cell_type": "code",
   "execution_count": 19,
   "metadata": {},
   "outputs": [
    {
     "data": {
      "text/plain": [
       "Male      307\n",
       "Female    246\n",
       "Name: USER_GENDER, dtype: int64"
      ]
     },
     "execution_count": 19,
     "metadata": {},
     "output_type": "execute_result"
    }
   ],
   "source": [
    "test.USER_GENDER.value_counts()"
   ]
  },
  {
   "cell_type": "markdown",
   "metadata": {},
   "source": [
    "Male value seems to be the most common, therefore we'll fill the missing value with male"
   ]
  },
  {
   "cell_type": "code",
   "execution_count": 20,
   "metadata": {},
   "outputs": [],
   "source": [
    "train[\"USER_GENDER\"] = train[\"USER_GENDER\"].apply(lambda x: \"Male\" if pd.isna(x) else x)\n",
    "test[\"USER_GENDER\"] = test[\"USER_GENDER\"].apply(lambda x: \"Male\" if pd.isna(x) else x)"
   ]
  },
  {
   "cell_type": "markdown",
   "metadata": {
    "id": "scNYPbycqeq9"
   },
   "source": [
    "Let's see how this affected our shape"
   ]
  },
  {
   "cell_type": "code",
   "execution_count": 21,
   "metadata": {
    "colab": {
     "base_uri": "https://localhost:8080/"
    },
    "id": "DMfeNkdOqeWy",
    "outputId": "e5f206cc-41c5-4715-eb08-7a7f3fa4b42b"
   },
   "outputs": [
    {
     "data": {
      "text/plain": [
       "(373, 12)"
      ]
     },
     "execution_count": 21,
     "metadata": {},
     "output_type": "execute_result"
    }
   ],
   "source": [
    "train.shape"
   ]
  },
  {
   "cell_type": "markdown",
   "metadata": {
    "id": "GyzBaBWbrBkO"
   },
   "source": [
    "We have various options with regards to filling in the missing values for AGE.\n",
    "Let's impute these values with the median"
   ]
  },
  {
   "cell_type": "code",
   "execution_count": 22,
   "metadata": {
    "id": "ilUVxzfkrK9u"
   },
   "outputs": [],
   "source": [
    "# Impute the missing age entries with the median of that column\n",
    "train_median_value = np.median(train['USER_AGE'].dropna())\n",
    "train['USER_AGE'] = train['USER_AGE'].fillna(train_median_value)\n",
    "\n",
    "test_median_value = np.median(test['USER_AGE'].dropna())\n",
    "test['USER_AGE'] = test['USER_AGE'].fillna(test_median_value)"
   ]
  },
  {
   "cell_type": "code",
   "execution_count": 23,
   "metadata": {
    "colab": {
     "base_uri": "https://localhost:8080/"
    },
    "id": "34cEwW0vrVA0",
    "outputId": "d2deb608-4f7c-4485-d334-420212cbb3c3"
   },
   "outputs": [
    {
     "data": {
      "text/plain": [
       "MERCHANT_CATEGORIZED_AT                  0\n",
       "MERCHANT_NAME                            0\n",
       "MERCHANT_CATEGORIZED_AS                  0\n",
       "PURCHASE_VALUE                           0\n",
       "PURCHASED_AT                             0\n",
       "IS_PURCHASE_PAID_VIA_MPESA_SEND_MONEY    0\n",
       "USER_AGE                                 0\n",
       "USER_GENDER                              0\n",
       "USER_HOUSEHOLD                           0\n",
       "USER_INCOME                              0\n",
       "USER_ID                                  0\n",
       "Transaction_ID                           0\n",
       "dtype: int64"
      ]
     },
     "execution_count": 23,
     "metadata": {},
     "output_type": "execute_result"
    }
   ],
   "source": [
    "# Check that it's done\n",
    "train.isna().sum()"
   ]
  },
  {
   "cell_type": "code",
   "execution_count": 24,
   "metadata": {
    "colab": {
     "base_uri": "https://localhost:8080/"
    },
    "id": "9JWxd6V5xfKO",
    "outputId": "7fadf801-bd3d-4db2-9b15-5f85b5c22f9b"
   },
   "outputs": [
    {
     "data": {
      "text/plain": [
       "MERCHANT_CATEGORIZED_AT                  0\n",
       "MERCHANT_NAME                            0\n",
       "PURCHASE_VALUE                           0\n",
       "PURCHASED_AT                             0\n",
       "IS_PURCHASE_PAID_VIA_MPESA_SEND_MONEY    0\n",
       "USER_AGE                                 0\n",
       "USER_GENDER                              0\n",
       "USER_HOUSEHOLD                           0\n",
       "USER_INCOME                              0\n",
       "USER_ID                                  0\n",
       "Transaction_ID                           0\n",
       "dtype: int64"
      ]
     },
     "execution_count": 24,
     "metadata": {},
     "output_type": "execute_result"
    }
   ],
   "source": [
    "test.isna().sum()"
   ]
  },
  {
   "cell_type": "markdown",
   "metadata": {
    "id": "4aVy-Pr01Z3n"
   },
   "source": [
    "### One-hot encode"
   ]
  },
  {
   "cell_type": "markdown",
   "metadata": {
    "id": "JMA98GfzrZsq"
   },
   "source": [
    "Now we need to do some other changes before we can run the metrics.\n",
    "One-hot encode MERCHANT_NAME so we can run metrics.\n",
    "\n",
    "To ensure uniformity across train and test, we will merge both dataset then perform 1 hot encode"
   ]
  },
  {
   "cell_type": "code",
   "execution_count": 25,
   "metadata": {},
   "outputs": [],
   "source": [
    "train[\"train\"] = 1\n",
    "test[\"train\"] = 0"
   ]
  },
  {
   "cell_type": "code",
   "execution_count": 26,
   "metadata": {},
   "outputs": [],
   "source": [
    "all_data = pd.concat([train, test])"
   ]
  },
  {
   "cell_type": "code",
   "execution_count": 27,
   "metadata": {
    "id": "m2IvLQ6Yregx"
   },
   "outputs": [],
   "source": [
    "all_data = pd.get_dummies(all_data, prefix_sep=\"_\", columns=['MERCHANT_NAME'])"
   ]
  },
  {
   "cell_type": "markdown",
   "metadata": {
    "id": "E0RrIAKorrCd"
   },
   "source": [
    "Let's see how this affected the shapes"
   ]
  },
  {
   "cell_type": "code",
   "execution_count": 28,
   "metadata": {},
   "outputs": [],
   "source": [
    "train = all_data[all_data[\"train\"] == 1]\n",
    "test = all_data[all_data[\"train\"] == 0]"
   ]
  },
  {
   "cell_type": "code",
   "execution_count": 29,
   "metadata": {
    "colab": {
     "base_uri": "https://localhost:8080/"
    },
    "id": "Ur_WN81srqMF",
    "outputId": "af2e378c-1c37-485b-d201-bcdccde3b115"
   },
   "outputs": [
    {
     "name": "stdout",
     "output_type": "stream",
     "text": [
      "Train:  (373, 452)\n",
      "Test:  (558, 452)\n"
     ]
    }
   ],
   "source": [
    "print(\"Train: \", train.shape)\n",
    "print(\"Test: \", test.shape)"
   ]
  },
  {
   "cell_type": "markdown",
   "metadata": {
    "id": "_-hQBD7R1gF1"
   },
   "source": [
    "### Drop unnecessary columns"
   ]
  },
  {
   "cell_type": "markdown",
   "metadata": {
    "id": "b6Smz5ogrxFt"
   },
   "source": [
    "We can also drop unnecessary categorical columns as we're currently not interested in when the purchases were made or when they were categorized."
   ]
  },
  {
   "cell_type": "code",
   "execution_count": 30,
   "metadata": {
    "id": "ySpFfwxJr4D7"
   },
   "outputs": [],
   "source": [
    "train = train.drop(['MERCHANT_CATEGORIZED_AT','PURCHASED_AT','USER_ID', 'Transaction_ID', \"train\"], axis=1)\n",
    "test = test.drop(['MERCHANT_CATEGORIZED_AT','PURCHASED_AT','USER_ID', \"train\", \"MERCHANT_CATEGORIZED_AS\"], axis=1)"
   ]
  },
  {
   "cell_type": "markdown",
   "metadata": {
    "id": "xRQDXQho1lBg"
   },
   "source": [
    "### Convert Boolean to Binary"
   ]
  },
  {
   "cell_type": "markdown",
   "metadata": {
    "id": "MX2U_Uc4sGB1"
   },
   "source": [
    "Now we convert boolean entries to binary."
   ]
  },
  {
   "cell_type": "code",
   "execution_count": 31,
   "metadata": {
    "id": "vQ0GOPUdsJlI"
   },
   "outputs": [],
   "source": [
    "# Based on our data set, this function converts boolean to binary entries\n",
    "def create_binary_cols(content):\n",
    "  if content == False:\n",
    "    content = 0\n",
    "  elif content == True:\n",
    "    content = 1\n",
    "  elif content == 'N':\n",
    "    content = 0\n",
    "  elif content == 'Y':\n",
    "    content = 1\n",
    "  elif content == 'Male':\n",
    "    content = 0\n",
    "  elif content == 'Female':\n",
    "    content = 1\n",
    "  return content"
   ]
  },
  {
   "cell_type": "code",
   "execution_count": 32,
   "metadata": {
    "id": "WV7llutosRsK"
   },
   "outputs": [],
   "source": [
    "# Gender column convert:\n",
    "train['USER_GENDER'] = train['USER_GENDER'].apply(create_binary_cols)\n",
    "test['USER_GENDER'] = test['USER_GENDER'].apply(create_binary_cols)\n",
    "\n",
    "# Is_purchase_paid_via_mpesa_send_money column convert:\n",
    "train['IS_PURCHASE_PAID_VIA_MPESA_SEND_MONEY'] = train['IS_PURCHASE_PAID_VIA_MPESA_SEND_MONEY'].apply(create_binary_cols)\n",
    "test['IS_PURCHASE_PAID_VIA_MPESA_SEND_MONEY'] = test['IS_PURCHASE_PAID_VIA_MPESA_SEND_MONEY'].apply(create_binary_cols)"
   ]
  },
  {
   "cell_type": "markdown",
   "metadata": {
    "id": "4ofAVhkhuarx"
   },
   "source": [
    "## 3. Data preparation for machine learning\n",
    "\n",
    "Before you train the model for prediction, you need to perform data [cleaning](https://www.dataquest.io/blog/machine-learning-preparing-data/) and [preprocessing](https://towardsdatascience.com/data-preprocessing-concepts-fa946d11c825). This is a very important step; your model will not perform well without these steps.\n",
    "\n",
    "The first step is to separate the independent variables and target() from the training data. Then transform the target values from the object data type into numerical.\n"
   ]
  },
  {
   "cell_type": "code",
   "execution_count": 33,
   "metadata": {
    "id": "v0Y0uKWguZ9n"
   },
   "outputs": [],
   "source": [
    "# Separate the features from the target in the training data\n",
    "X = train.drop([\"MERCHANT_CATEGORIZED_AS\"], axis=1)\n",
    "y = train[\"MERCHANT_CATEGORIZED_AS\"]"
   ]
  },
  {
   "cell_type": "code",
   "execution_count": 34,
   "metadata": {},
   "outputs": [
    {
     "data": {
      "text/plain": [
       "array(['Bills & Fees', 'Groceries', 'Going out', 'Data & WiFi',\n",
       "       'Miscellaneous', 'Transport & Fuel', 'Family & Friends',\n",
       "       'Emergency fund', 'Shopping', 'Health', 'Loan Repayment',\n",
       "       'Education', 'Rent / Mortgage'], dtype=object)"
      ]
     },
     "execution_count": 34,
     "metadata": {},
     "output_type": "execute_result"
    }
   ],
   "source": [
    "y.unique()"
   ]
  },
  {
   "cell_type": "code",
   "execution_count": 35,
   "metadata": {
    "colab": {
     "base_uri": "https://localhost:8080/"
    },
    "id": "iXwzW_sq1Arr",
    "outputId": "76cb1f56-1c85-46d5-a3c0-6f41f0a6d8d8"
   },
   "outputs": [
    {
     "data": {
      "text/plain": [
       "(373, 446)"
      ]
     },
     "execution_count": 35,
     "metadata": {},
     "output_type": "execute_result"
    }
   ],
   "source": [
    "X.shape"
   ]
  },
  {
   "cell_type": "markdown",
   "metadata": {
    "id": "q1aHDTs90qu_"
   },
   "source": [
    "Now we have more independent variables than before (235 variables). This doesn’t mean all these variables are important to train our model. You need to select only important features that can increase the performance of the model. But we will not apply any feature selection technique in this article; if you want to learn and know more about feature selection techniques, we recommend you read the following articles:\n",
    "\n",
    "\n",
    "*    [Introduction to Feature Selection methods with an example (or how to select the right variables?)](https://https://www.analyticsvidhya.com/blog/2016/12/introduction-to-feature-selection-methods-with-an-example-or-how-to-select-the-right-variables/)\n",
    "*   [The 5 Feature Selection Algorithms every Data Scientist should know](https://towardsdatascience.com/the-5-feature-selection-algorithms-every-data-scientist-need-to-know-3a6b566efd2)\n",
    "*   [How to Choose a Feature Selection Method For Machine Learning](https://machinelearningmastery.com/feature-selection-with-real-and-categorical-data/)\n",
    "*   [Feature Selection Techniques in Machine Learning with Python](https://towardsdatascience.com/feature-selection-techniques-in-machine-learning-with-python-f24e7da3f36e)"
   ]
  },
  {
   "cell_type": "markdown",
   "metadata": {
    "id": "T2SGpaag1QSD"
   },
   "source": [
    "##4. Model Building and Experiments\n",
    "A portion of the training data set will be used to evaluate our models and find the best one that performs well before using it in the test dataset.\n"
   ]
  },
  {
   "cell_type": "code",
   "execution_count": 36,
   "metadata": {
    "id": "clVOI_t16J1k"
   },
   "outputs": [],
   "source": [
    "# # Split the training data\n",
    "\n",
    "X_train, X_val, y_train, y_val = train_test_split(X, y, test_size=0.1, random_state=101)"
   ]
  },
  {
   "cell_type": "markdown",
   "metadata": {
    "id": "WriH9E9b6QO2"
   },
   "source": [
    "Only 10% of the train dataset will be used for evaluating the models. \n",
    "\n",
    "There are many models to choose from such as \n",
    "\n",
    "*   [K Nearest Neighbors](https://www.datacamp.com/community/tutorials/k-nearest-neighbor-classification-scikit-learn)\n",
    "*   [Logistic Regression](https://machinelearningmastery.com/logistic-regression-tutorial-for-machine-learning/)\n",
    "*   [Random Forest](https://www.datacamp.com/community/tutorials/random-forests-classifier-python)\n",
    "*   [XGBoost](https://www.datacamp.com/community/tutorials/xgboost-in-python)\n"
   ]
  },
  {
   "cell_type": "markdown",
   "metadata": {
    "id": "iy2_NHkB2qH6"
   },
   "source": [
    "Fit models"
   ]
  },
  {
   "cell_type": "markdown",
   "metadata": {
    "id": "iDSfITip2u1y"
   },
   "source": [
    "Let's try a decision tree first"
   ]
  },
  {
   "cell_type": "code",
   "execution_count": 37,
   "metadata": {
    "id": "yRatl-C-2wWv"
   },
   "outputs": [
    {
     "name": "stdout",
     "output_type": "stream",
     "text": [
      "ACCURACY OF THE MODEL:  0.34210526315789475\n",
      "                  precision    recall  f1-score   support\n",
      "\n",
      "    Bills & Fees       0.33      0.29      0.31         7\n",
      "     Data & WiFi       1.00      0.50      0.67         2\n",
      "  Emergency fund       0.00      0.00      0.00         1\n",
      "Family & Friends       0.45      0.62      0.53         8\n",
      "       Going out       0.08      1.00      0.15         1\n",
      "       Groceries       0.43      0.75      0.55         4\n",
      "   Miscellaneous       1.00      0.17      0.29         6\n",
      "        Shopping       0.00      0.00      0.00         2\n",
      "Transport & Fuel       0.00      0.00      0.00         7\n",
      "\n",
      "        accuracy                           0.34        38\n",
      "       macro avg       0.37      0.37      0.28        38\n",
      "    weighted avg       0.41      0.34      0.31        38\n",
      "\n"
     ]
    }
   ],
   "source": [
    "# Creating a Decision tree classifier\n",
    "model_dtree = DecisionTreeClassifier(max_depth=5, random_state=101,\n",
    "                                     max_features = None, min_samples_leaf=8)\n",
    "\n",
    "# Training the model on the training dataset\n",
    "model_dtree.fit(X_train, y_train)\n",
    "\n",
    "# Predict\n",
    "y_pred = model_dtree.predict(X_val)\n",
    "\n",
    "# Calculate accuracy\n",
    "print(\"ACCURACY OF THE MODEL: \", accuracy_score(y_val, y_pred))\n",
    "\n",
    "# Classification report\n",
    "print(classification_report(y_val, y_pred))"
   ]
  },
  {
   "cell_type": "markdown",
   "metadata": {
    "id": "W0sgBhhK24ev"
   },
   "source": [
    "Let's try random forest with 100 estimators"
   ]
  },
  {
   "cell_type": "code",
   "execution_count": 38,
   "metadata": {
    "id": "RZNyCOCf26Gd"
   },
   "outputs": [
    {
     "name": "stdout",
     "output_type": "stream",
     "text": [
      "ACCURACY OF THE MODEL:  0.5\n",
      "                  precision    recall  f1-score   support\n",
      "\n",
      "    Bills & Fees       0.45      0.71      0.56         7\n",
      "     Data & WiFi       1.00      0.50      0.67         2\n",
      "  Emergency fund       0.00      0.00      0.00         1\n",
      "Family & Friends       0.86      0.75      0.80         8\n",
      "       Going out       0.14      1.00      0.25         1\n",
      "       Groceries       0.50      0.75      0.60         4\n",
      "   Miscellaneous       0.50      0.17      0.25         6\n",
      "        Shopping       1.00      0.50      0.67         2\n",
      "Transport & Fuel       0.33      0.14      0.20         7\n",
      "\n",
      "        accuracy                           0.50        38\n",
      "       macro avg       0.53      0.50      0.44        38\n",
      "    weighted avg       0.57      0.50      0.49        38\n",
      "\n"
     ]
    }
   ],
   "source": [
    "from sklearn.ensemble import RandomForestClassifier\n",
    "\n",
    "# Creating a RF classifier\n",
    "clf = RandomForestClassifier() \n",
    " \n",
    "# Training the model on the training dataset\n",
    "clf.fit(X_train, y_train)\n",
    " \n",
    "# Performing predictions on the test dataset\n",
    "y_pred = clf.predict(X_val)\n",
    "\n",
    "# Calculate accuracy\n",
    "print(\"ACCURACY OF THE MODEL: \", accuracy_score(y_val, y_pred))\n",
    "\n",
    "# Classification report\n",
    "print(classification_report(y_val, y_pred))\n"
   ]
  },
  {
   "cell_type": "markdown",
   "metadata": {
    "id": "XJnV9lsd2-s-"
   },
   "source": [
    "### 5. Making the first submission\n",
    "\n",
    "Let’s see how the model performs on the competition test data set provided and how we rank on the competition leaderboard.\n",
    "\n",
    "First we make predictions on the competition test data set."
   ]
  },
  {
   "cell_type": "code",
   "execution_count": 39,
   "metadata": {
    "id": "LoH4zhJb3EV4"
   },
   "outputs": [],
   "source": [
    "# Get the predicted result for the test Data\n",
    "predictions = clf.predict(test.drop(\"Transaction_ID\", axis=1))"
   ]
  },
  {
   "cell_type": "code",
   "execution_count": 40,
   "metadata": {},
   "outputs": [],
   "source": [
    "test[\"predictions\"] = predictions"
   ]
  },
  {
   "cell_type": "code",
   "execution_count": 41,
   "metadata": {},
   "outputs": [
    {
     "data": {
      "text/html": [
       "<div>\n",
       "<style scoped>\n",
       "    .dataframe tbody tr th:only-of-type {\n",
       "        vertical-align: middle;\n",
       "    }\n",
       "\n",
       "    .dataframe tbody tr th {\n",
       "        vertical-align: top;\n",
       "    }\n",
       "\n",
       "    .dataframe thead th {\n",
       "        text-align: right;\n",
       "    }\n",
       "</style>\n",
       "<table border=\"1\" class=\"dataframe\">\n",
       "  <thead>\n",
       "    <tr style=\"text-align: right;\">\n",
       "      <th></th>\n",
       "      <th>Transaction_ID</th>\n",
       "      <th>predictions</th>\n",
       "    </tr>\n",
       "  </thead>\n",
       "  <tbody>\n",
       "    <tr>\n",
       "      <th>0</th>\n",
       "      <td>ID_aclde4g8</td>\n",
       "      <td>Going out</td>\n",
       "    </tr>\n",
       "    <tr>\n",
       "      <th>1</th>\n",
       "      <td>ID_gzsdiej7</td>\n",
       "      <td>Shopping</td>\n",
       "    </tr>\n",
       "    <tr>\n",
       "      <th>2</th>\n",
       "      <td>ID_h76zkmwk</td>\n",
       "      <td>Going out</td>\n",
       "    </tr>\n",
       "    <tr>\n",
       "      <th>3</th>\n",
       "      <td>ID_xz7r1y3i</td>\n",
       "      <td>Miscellaneous</td>\n",
       "    </tr>\n",
       "    <tr>\n",
       "      <th>4</th>\n",
       "      <td>ID_h159qook</td>\n",
       "      <td>Going out</td>\n",
       "    </tr>\n",
       "  </tbody>\n",
       "</table>\n",
       "</div>"
      ],
      "text/plain": [
       "  Transaction_ID    predictions\n",
       "0    ID_aclde4g8      Going out\n",
       "1    ID_gzsdiej7       Shopping\n",
       "2    ID_h76zkmwk      Going out\n",
       "3    ID_xz7r1y3i  Miscellaneous\n",
       "4    ID_h159qook      Going out"
      ]
     },
     "execution_count": 41,
     "metadata": {},
     "output_type": "execute_result"
    }
   ],
   "source": [
    "test[[\"Transaction_ID\",  \"predictions\"]].head()"
   ]
  },
  {
   "cell_type": "code",
   "execution_count": 42,
   "metadata": {},
   "outputs": [
    {
     "data": {
      "text/plain": [
       "11"
      ]
     },
     "execution_count": 42,
     "metadata": {},
     "output_type": "execute_result"
    }
   ],
   "source": [
    "test[[\"Transaction_ID\",  \"predictions\"]][\"predictions\"].nunique()"
   ]
  },
  {
   "cell_type": "markdown",
   "metadata": {},
   "source": [
    "- We need to convert our submissions to the sample submission format.\n",
    "\n",
    "- We also can see that our model is not doing so good, we only predicted 11 categories instead of 13, for **log loss** to work we need to have **all the categories predicted**. Let's do a deep dive of which category is missing."
   ]
  },
  {
   "cell_type": "code",
   "execution_count": 43,
   "metadata": {},
   "outputs": [
    {
     "data": {
      "text/plain": [
       "array(['Going out', 'Shopping', 'Miscellaneous', 'Family & Friends',\n",
       "       'Loan Repayment', 'Transport & Fuel', 'Bills & Fees', 'Groceries',\n",
       "       'Data & WiFi', 'Emergency fund', 'Health'], dtype=object)"
      ]
     },
     "execution_count": 43,
     "metadata": {},
     "output_type": "execute_result"
    }
   ],
   "source": [
    "test[[\"Transaction_ID\",  \"predictions\"]][\"predictions\"].unique()"
   ]
  },
  {
   "cell_type": "code",
   "execution_count": 44,
   "metadata": {},
   "outputs": [
    {
     "data": {
      "text/plain": [
       "['Bills & Fees',\n",
       " 'Data & WiFi',\n",
       " 'Education',\n",
       " 'Emergency fund',\n",
       " 'Family & Friends',\n",
       " 'Going out',\n",
       " 'Groceries',\n",
       " 'Health',\n",
       " 'Loan Repayment',\n",
       " 'Miscellaneous',\n",
       " 'Rent / Mortgage',\n",
       " 'Shopping',\n",
       " 'Transport & Fuel']"
      ]
     },
     "execution_count": 44,
     "metadata": {},
     "output_type": "execute_result"
    }
   ],
   "source": [
    "labels_train"
   ]
  },
  {
   "cell_type": "markdown",
   "metadata": {},
   "source": [
    "- **Education** and **Rent/Mortgage** is not predicted, from the graph provided earlier we also see that the education bar count is very small.\n",
    "\n",
    "**Note** this is only for demotration purpose, I'll edit one row to `education`  and the other to `Rent/Mortgage` so we can get our log loss working. **This should not be done, ensure that your models are able to predict all the classes if not create a column with any missing category  after coverting the submission to log loss and fill all the rows with 0s**"
   ]
  },
  {
   "cell_type": "code",
   "execution_count": 45,
   "metadata": {},
   "outputs": [],
   "source": [
    "sub = test[[\"Transaction_ID\",  \"predictions\"]]\n",
    "sub.at[1,'predictions']='Education'\n",
    "sub.at[2,'predictions']='Rent / Mortgage'"
   ]
  },
  {
   "cell_type": "code",
   "execution_count": 46,
   "metadata": {},
   "outputs": [
    {
     "data": {
      "text/html": [
       "<div>\n",
       "<style scoped>\n",
       "    .dataframe tbody tr th:only-of-type {\n",
       "        vertical-align: middle;\n",
       "    }\n",
       "\n",
       "    .dataframe tbody tr th {\n",
       "        vertical-align: top;\n",
       "    }\n",
       "\n",
       "    .dataframe thead th {\n",
       "        text-align: right;\n",
       "    }\n",
       "</style>\n",
       "<table border=\"1\" class=\"dataframe\">\n",
       "  <thead>\n",
       "    <tr style=\"text-align: right;\">\n",
       "      <th></th>\n",
       "      <th>Transaction_ID</th>\n",
       "      <th>Bills &amp; Fees</th>\n",
       "      <th>Data &amp; WiFi</th>\n",
       "      <th>Education</th>\n",
       "      <th>Emergency fund</th>\n",
       "      <th>Family &amp; Friends</th>\n",
       "      <th>Going out</th>\n",
       "      <th>Groceries</th>\n",
       "      <th>Health</th>\n",
       "      <th>Loan Repayment</th>\n",
       "      <th>Miscellaneous</th>\n",
       "      <th>Rent / Mortgage</th>\n",
       "      <th>Shopping</th>\n",
       "      <th>Transport &amp; Fuel</th>\n",
       "    </tr>\n",
       "  </thead>\n",
       "  <tbody>\n",
       "    <tr>\n",
       "      <th>144</th>\n",
       "      <td>ID_6kg9z3bf</td>\n",
       "      <td>0</td>\n",
       "      <td>0</td>\n",
       "      <td>0</td>\n",
       "      <td>0</td>\n",
       "      <td>0</td>\n",
       "      <td>0</td>\n",
       "      <td>0</td>\n",
       "      <td>0</td>\n",
       "      <td>0</td>\n",
       "      <td>0</td>\n",
       "      <td>0</td>\n",
       "      <td>0</td>\n",
       "      <td>0</td>\n",
       "    </tr>\n",
       "  </tbody>\n",
       "</table>\n",
       "</div>"
      ],
      "text/plain": [
       "    Transaction_ID  Bills & Fees  Data & WiFi  Education  Emergency fund  \\\n",
       "144    ID_6kg9z3bf             0            0          0               0   \n",
       "\n",
       "     Family & Friends  Going out  Groceries  Health  Loan Repayment  \\\n",
       "144                 0          0          0       0               0   \n",
       "\n",
       "     Miscellaneous  Rent / Mortgage  Shopping  Transport & Fuel  \n",
       "144              0                0         0                 0  "
      ]
     },
     "execution_count": 46,
     "metadata": {},
     "output_type": "execute_result"
    }
   ],
   "source": [
    "ss.sample(1)"
   ]
  },
  {
   "cell_type": "code",
   "execution_count": 47,
   "metadata": {},
   "outputs": [],
   "source": [
    "sub = pd.get_dummies(sub, columns=['predictions'])\n",
    "\n",
    "# remove the prefix\n",
    "sub.columns = sub.columns.str.replace('predictions_','')"
   ]
  },
  {
   "cell_type": "code",
   "execution_count": 48,
   "metadata": {},
   "outputs": [
    {
     "data": {
      "text/html": [
       "<div>\n",
       "<style scoped>\n",
       "    .dataframe tbody tr th:only-of-type {\n",
       "        vertical-align: middle;\n",
       "    }\n",
       "\n",
       "    .dataframe tbody tr th {\n",
       "        vertical-align: top;\n",
       "    }\n",
       "\n",
       "    .dataframe thead th {\n",
       "        text-align: right;\n",
       "    }\n",
       "</style>\n",
       "<table border=\"1\" class=\"dataframe\">\n",
       "  <thead>\n",
       "    <tr style=\"text-align: right;\">\n",
       "      <th></th>\n",
       "      <th>Transaction_ID</th>\n",
       "      <th>Bills &amp; Fees</th>\n",
       "      <th>Data &amp; WiFi</th>\n",
       "      <th>Education</th>\n",
       "      <th>Emergency fund</th>\n",
       "      <th>Family &amp; Friends</th>\n",
       "      <th>Going out</th>\n",
       "      <th>Groceries</th>\n",
       "      <th>Health</th>\n",
       "      <th>Loan Repayment</th>\n",
       "      <th>Miscellaneous</th>\n",
       "      <th>Rent / Mortgage</th>\n",
       "      <th>Shopping</th>\n",
       "      <th>Transport &amp; Fuel</th>\n",
       "    </tr>\n",
       "  </thead>\n",
       "  <tbody>\n",
       "    <tr>\n",
       "      <th>0</th>\n",
       "      <td>ID_aclde4g8</td>\n",
       "      <td>0</td>\n",
       "      <td>0</td>\n",
       "      <td>0</td>\n",
       "      <td>0</td>\n",
       "      <td>0</td>\n",
       "      <td>1</td>\n",
       "      <td>0</td>\n",
       "      <td>0</td>\n",
       "      <td>0</td>\n",
       "      <td>0</td>\n",
       "      <td>0</td>\n",
       "      <td>0</td>\n",
       "      <td>0</td>\n",
       "    </tr>\n",
       "    <tr>\n",
       "      <th>1</th>\n",
       "      <td>ID_gzsdiej7</td>\n",
       "      <td>0</td>\n",
       "      <td>0</td>\n",
       "      <td>1</td>\n",
       "      <td>0</td>\n",
       "      <td>0</td>\n",
       "      <td>0</td>\n",
       "      <td>0</td>\n",
       "      <td>0</td>\n",
       "      <td>0</td>\n",
       "      <td>0</td>\n",
       "      <td>0</td>\n",
       "      <td>0</td>\n",
       "      <td>0</td>\n",
       "    </tr>\n",
       "    <tr>\n",
       "      <th>2</th>\n",
       "      <td>ID_h76zkmwk</td>\n",
       "      <td>0</td>\n",
       "      <td>0</td>\n",
       "      <td>0</td>\n",
       "      <td>0</td>\n",
       "      <td>0</td>\n",
       "      <td>0</td>\n",
       "      <td>0</td>\n",
       "      <td>0</td>\n",
       "      <td>0</td>\n",
       "      <td>0</td>\n",
       "      <td>1</td>\n",
       "      <td>0</td>\n",
       "      <td>0</td>\n",
       "    </tr>\n",
       "  </tbody>\n",
       "</table>\n",
       "</div>"
      ],
      "text/plain": [
       "  Transaction_ID  Bills & Fees  Data & WiFi  Education  Emergency fund  \\\n",
       "0    ID_aclde4g8             0            0          0               0   \n",
       "1    ID_gzsdiej7             0            0          1               0   \n",
       "2    ID_h76zkmwk             0            0          0               0   \n",
       "\n",
       "   Family & Friends  Going out  Groceries  Health  Loan Repayment  \\\n",
       "0                 0          1          0       0               0   \n",
       "1                 0          0          0       0               0   \n",
       "2                 0          0          0       0               0   \n",
       "\n",
       "   Miscellaneous  Rent / Mortgage  Shopping  Transport & Fuel  \n",
       "0              0                0         0                 0  \n",
       "1              0                0         0                 0  \n",
       "2              0                1         0                 0  "
      ]
     },
     "execution_count": 48,
     "metadata": {},
     "output_type": "execute_result"
    }
   ],
   "source": [
    "sub.head(3)"
   ]
  },
  {
   "cell_type": "code",
   "execution_count": 49,
   "metadata": {},
   "outputs": [
    {
     "data": {
      "text/plain": [
       "(558, 14)"
      ]
     },
     "execution_count": 49,
     "metadata": {},
     "output_type": "execute_result"
    }
   ],
   "source": [
    "sub.shape"
   ]
  },
  {
   "cell_type": "markdown",
   "metadata": {
    "id": "xway9nYc3s1m"
   },
   "source": [
    "Save results in the CSV file."
   ]
  },
  {
   "cell_type": "code",
   "execution_count": 50,
   "metadata": {
    "id": "XoLeuE4M3uSs"
   },
   "outputs": [],
   "source": [
    "# Create the submission csv file\n",
    "sub.to_csv('first_submission.csv', index = False)"
   ]
  },
  {
   "cell_type": "markdown",
   "metadata": {
    "id": "6PipiYQc3ww3"
   },
   "source": [
    "We named our submission file a first_submission.csv. Now we can upload it to the Zindi competition page by clicking the submit button and selecting the file to upload. You also have an option to add comments for each submission."
   ]
  },
  {
   "cell_type": "markdown",
   "metadata": {
    "id": "Kq5e1pAw3zZ3"
   },
   "source": [
    "## More Tips\n",
    "- Look at the extra dataset provided, check if it's resourceful for training\n",
    "- Thorough EDA and domain knowledge sourcing\n",
    "- Re-group Categorical features \n",
    "- More Feature Engineering \n",
    "- Dataset balancing - oversampling, undersampling, SMOTE...\n",
    "- Ensembling of models \n",
    "- Cross-validation: Group folds, Stratified..."
   ]
  },
  {
   "cell_type": "code",
   "execution_count": null,
   "metadata": {},
   "outputs": [],
   "source": []
  }
 ],
 "metadata": {
  "colab": {
   "collapsed_sections": [],
   "name": "Alvinapp competition.ipynb",
   "provenance": [],
   "toc_visible": true
  },
  "kernelspec": {
   "display_name": "Python 3 (ipykernel)",
   "language": "python",
   "name": "python3"
  },
  "language_info": {
   "codemirror_mode": {
    "name": "ipython",
    "version": 3
   },
   "file_extension": ".py",
   "mimetype": "text/x-python",
   "name": "python",
   "nbconvert_exporter": "python",
   "pygments_lexer": "ipython3",
   "version": "3.9.10"
  }
 },
 "nbformat": 4,
 "nbformat_minor": 1
}
